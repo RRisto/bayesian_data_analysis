{
 "cells": [
  {
   "cell_type": "markdown",
   "metadata": {},
   "source": [
    "# Chapter 7"
   ]
  },
  {
   "cell_type": "code",
   "execution_count": 5,
   "metadata": {},
   "outputs": [],
   "source": [
    "import logging\n",
    "\n",
    "import arviz as az\n",
    "import matplotlib.pyplot as plt\n",
    "import numpy as np\n",
    "import pandas as pd\n",
    "import pymc as pm\n",
    "import statsmodels.api as sm\n",
    "import statsmodels.formula.api as smf\n",
    "import tqdm\n",
    "\n",
    "#from aesara import shared\n",
    "from pytensor import shared\n",
    "from patsy import dmatrix\n",
    "from scipy import stats\n",
    "from scipy.special import logsumexp"
   ]
  },
  {
   "cell_type": "code",
   "execution_count": 6,
   "metadata": {},
   "outputs": [
    {
     "name": "stderr",
     "output_type": "stream",
     "text": [
      "C:\\Users\\risto\\AppData\\Local\\Packages\\PythonSoftwareFoundation.Python.3.13_qbz5n2kfra8p0\\LocalCache\\local-packages\\Python313\\site-packages\\arviz\\rcparams.py:345: FutureWarning: stats.hdi_prob is deprecated since 0.18.0, use stats.ci_prob instead\n",
      "  warnings.warn(\n"
     ]
    }
   ],
   "source": [
    "%config Inline.figure_format = 'retina'\n",
    "az.style.use(\"arviz-darkgrid\")\n",
    "az.rcParams[\"stats.hdi_prob\"] = 0.89  # set credible interval for entire notebook\n",
    "np.random.seed(0)"
   ]
  },
  {
   "cell_type": "markdown",
   "metadata": {},
   "source": [
    "#### Code 7.1"
   ]
  },
  {
   "cell_type": "code",
   "execution_count": 7,
   "metadata": {},
   "outputs": [
    {
     "data": {
      "text/html": [
       "<div>\n",
       "<style scoped>\n",
       "    .dataframe tbody tr th:only-of-type {\n",
       "        vertical-align: middle;\n",
       "    }\n",
       "\n",
       "    .dataframe tbody tr th {\n",
       "        vertical-align: top;\n",
       "    }\n",
       "\n",
       "    .dataframe thead th {\n",
       "        text-align: right;\n",
       "    }\n",
       "</style>\n",
       "<table border=\"1\" class=\"dataframe\">\n",
       "  <thead>\n",
       "    <tr style=\"text-align: right;\">\n",
       "      <th></th>\n",
       "      <th>species</th>\n",
       "      <th>brain</th>\n",
       "      <th>mass</th>\n",
       "    </tr>\n",
       "  </thead>\n",
       "  <tbody>\n",
       "    <tr>\n",
       "      <th>0</th>\n",
       "      <td>afarensis</td>\n",
       "      <td>438</td>\n",
       "      <td>37.0</td>\n",
       "    </tr>\n",
       "    <tr>\n",
       "      <th>1</th>\n",
       "      <td>africanus</td>\n",
       "      <td>452</td>\n",
       "      <td>35.5</td>\n",
       "    </tr>\n",
       "    <tr>\n",
       "      <th>2</th>\n",
       "      <td>habilis</td>\n",
       "      <td>612</td>\n",
       "      <td>34.5</td>\n",
       "    </tr>\n",
       "    <tr>\n",
       "      <th>3</th>\n",
       "      <td>boisei</td>\n",
       "      <td>521</td>\n",
       "      <td>41.5</td>\n",
       "    </tr>\n",
       "    <tr>\n",
       "      <th>4</th>\n",
       "      <td>rudolfensis</td>\n",
       "      <td>752</td>\n",
       "      <td>55.5</td>\n",
       "    </tr>\n",
       "    <tr>\n",
       "      <th>5</th>\n",
       "      <td>ergaster</td>\n",
       "      <td>871</td>\n",
       "      <td>61.0</td>\n",
       "    </tr>\n",
       "    <tr>\n",
       "      <th>6</th>\n",
       "      <td>sapiens</td>\n",
       "      <td>1350</td>\n",
       "      <td>53.5</td>\n",
       "    </tr>\n",
       "  </tbody>\n",
       "</table>\n",
       "</div>"
      ],
      "text/plain": [
       "       species  brain  mass\n",
       "0    afarensis    438  37.0\n",
       "1    africanus    452  35.5\n",
       "2      habilis    612  34.5\n",
       "3       boisei    521  41.5\n",
       "4  rudolfensis    752  55.5\n",
       "5     ergaster    871  61.0\n",
       "6      sapiens   1350  53.5"
      ]
     },
     "execution_count": 7,
     "metadata": {},
     "output_type": "execute_result"
    }
   ],
   "source": [
    "brains = pd.DataFrame.from_dict(\n",
    "    {\n",
    "        \"species\": [\n",
    "            \"afarensis\",\n",
    "            \"africanus\",\n",
    "            \"habilis\",\n",
    "            \"boisei\",\n",
    "            \"rudolfensis\",\n",
    "            \"ergaster\",\n",
    "            \"sapiens\",\n",
    "        ],\n",
    "        \"brain\": [438, 452, 612, 521, 752, 871, 1350],  # volume in cc\n",
    "        \"mass\": [37.0, 35.5, 34.5, 41.5, 55.5, 61.0, 53.5],  # mass in kg\n",
    "    }\n",
    ")\n",
    "\n",
    "brains"
   ]
  },
  {
   "cell_type": "code",
   "execution_count": 8,
   "metadata": {},
   "outputs": [
    {
     "data": {
      "image/png": "[encoded data removed]",
      "text/plain": [
       "<Figure size 720x480 with 1 Axes>"
      ]
     },
     "metadata": {},
     "output_type": "display_data"
    }
   ],
   "source": [
    "# Figure 7.2\n",
    "\n",
    "plt.scatter(brains.mass, brains.brain)\n",
    "\n",
    "# point labels\n",
    "for i, r in brains.iterrows():\n",
    "    if r.species == \"afarensis\":\n",
    "        plt.text(r.mass + 0.5, r.brain, r.species, ha=\"left\", va=\"center\")\n",
    "    elif r.species == \"sapiens\":\n",
    "        plt.text(r.mass, r.brain - 25, r.species, ha=\"center\", va=\"top\")\n",
    "    else:\n",
    "        plt.text(r.mass, r.brain + 25, r.species, ha=\"center\")\n",
    "\n",
    "plt.xlabel(\"body mass (kg)\")\n",
    "plt.ylabel(\"brain volume (cc)\");"
   ]
  },
  {
   "cell_type": "markdown",
   "metadata": {},
   "source": [
    "#### Code 7.2"
   ]
  },
  {
   "cell_type": "code",
   "execution_count": 9,
   "metadata": {},
   "outputs": [],
   "source": [
    "brains.loc[:, \"mass_std\"] = (brains.loc[:, \"mass\"] - brains.loc[:, \"mass\"].mean()) / brains.loc[\n",
    "    :, \"mass\"\n",
    "].std()\n",
    "brains.loc[:, \"brain_std\"] = brains.loc[:, \"brain\"] / brains.loc[:, \"brain\"].max()"
   ]
  },
  {
   "cell_type": "markdown",
   "metadata": {},
   "source": [
    "#### Code 7.3\n",
    "\n",
    "This is modified from [Chapter 6 of 1st Edition](https://nbviewer.jupyter.org/github/pymc-devs/resources/blob/master/Rethinking/Chp_06.ipynb) (6.2 - 6.6)."
   ]
  },
  {
   "cell_type": "code",
   "execution_count": 10,
   "metadata": {},
   "outputs": [
    {
     "name": "stderr",
     "output_type": "stream",
     "text": [
      "C:\\Users\\risto\\AppData\\Local\\Packages\\PythonSoftwareFoundation.Python.3.13_qbz5n2kfra8p0\\LocalCache\\local-packages\\Python313\\site-packages\\statsmodels\\stats\\stattools.py:74: ValueWarning: omni_normtest is not valid with less than 8 observations; 7 samples were given.\n",
      "  warn(\"omni_normtest is not valid with less than 8 observations; %i \"\n"
     ]
    },
    {
     "data": {
      "text/html": [
       "<table class=\"simpletable\">\n",
       "<caption>OLS Regression Results</caption>\n",
       "<tr>\n",
       "  <th>Dep. Variable:</th>        <td>brain_std</td>    <th>  R-squared:         </th> <td>   0.490</td>\n",
       "</tr>\n",
       "<tr>\n",
       "  <th>Model:</th>                   <td>OLS</td>       <th>  Adj. R-squared:    </th> <td>   0.388</td>\n",
       "</tr>\n",
       "<tr>\n",
       "  <th>Method:</th>             <td>Least Squares</td>  <th>  F-statistic:       </th> <td>   4.807</td>\n",
       "</tr>\n",
       "<tr>\n",
       "  <th>Date:</th>             <td>Tue, 24 Jun 2025</td> <th>  Prob (F-statistic):</th>  <td>0.0798</td> \n",
       "</tr>\n",
       "<tr>\n",
       "  <th>Time:</th>                 <td>18:35:03</td>     <th>  Log-Likelihood:    </th> <td>  2.9925</td>\n",
       "</tr>\n",
       "<tr>\n",
       "  <th>No. Observations:</th>      <td>     7</td>      <th>  AIC:               </th> <td>  -1.985</td>\n",
       "</tr>\n",
       "<tr>\n",
       "  <th>Df Residuals:</th>          <td>     5</td>      <th>  BIC:               </th> <td>  -2.093</td>\n",
       "</tr>\n",
       "<tr>\n",
       "  <th>Df Model:</th>              <td>     1</td>      <th>                     </th>     <td> </td>   \n",
       "</tr>\n",
       "<tr>\n",
       "  <th>Covariance Type:</th>      <td>nonrobust</td>    <th>                     </th>     <td> </td>   \n",
       "</tr>\n",
       "</table>\n",
       "<table class=\"simpletable\">\n",
       "<tr>\n",
       "      <td></td>         <th>coef</th>     <th>std err</th>      <th>t</th>      <th>P>|t|</th>  <th>[0.025</th>    <th>0.975]</th>  \n",
       "</tr>\n",
       "<tr>\n",
       "  <th>Intercept</th> <td>    0.5287</td> <td>    0.071</td> <td>    7.492</td> <td> 0.001</td> <td>    0.347</td> <td>    0.710</td>\n",
       "</tr>\n",
       "<tr>\n",
       "  <th>mass_std</th>  <td>    0.1671</td> <td>    0.076</td> <td>    2.192</td> <td> 0.080</td> <td>   -0.029</td> <td>    0.363</td>\n",
       "</tr>\n",
       "</table>\n",
       "<table class=\"simpletable\">\n",
       "<tr>\n",
       "  <th>Omnibus:</th>       <td>   nan</td> <th>  Durbin-Watson:     </th> <td>   1.561</td>\n",
       "</tr>\n",
       "<tr>\n",
       "  <th>Prob(Omnibus):</th> <td>   nan</td> <th>  Jarque-Bera (JB):  </th> <td>   2.372</td>\n",
       "</tr>\n",
       "<tr>\n",
       "  <th>Skew:</th>          <td> 1.399</td> <th>  Prob(JB):          </th> <td>   0.305</td>\n",
       "</tr>\n",
       "<tr>\n",
       "  <th>Kurtosis:</th>      <td> 3.548</td> <th>  Cond. No.          </th> <td>    1.08</td>\n",
       "</tr>\n",
       "</table><br/><br/>Notes:<br/>[1] Standard Errors assume that the covariance matrix of the errors is correctly specified."
      ],
      "text/latex": [
       "\\begin{center}\n",
       "\\begin{tabular}{lclc}\n",
       "\\toprule\n",
       "\\textbf{Dep. Variable:}    &    brain\\_std    & \\textbf{  R-squared:         } &     0.490   \\\\\n",
       "\\textbf{Model:}            &       OLS        & \\textbf{  Adj. R-squared:    } &     0.388   \\\\\n",
       "\\textbf{Method:}           &  Least Squares   & \\textbf{  F-statistic:       } &     4.807   \\\\\n",
       "\\textbf{Date:}             & Tue, 24 Jun 2025 & \\textbf{  Prob (F-statistic):} &   0.0798    \\\\\n",
       "\\textbf{Time:}             &     18:35:03     & \\textbf{  Log-Likelihood:    } &    2.9925   \\\\\n",
       "\\textbf{No. Observations:} &           7      & \\textbf{  AIC:               } &    -1.985   \\\\\n",
       "\\textbf{Df Residuals:}     &           5      & \\textbf{  BIC:               } &    -2.093   \\\\\n",
       "\\textbf{Df Model:}         &           1      & \\textbf{                     } &             \\\\\n",
       "\\textbf{Covariance Type:}  &    nonrobust     & \\textbf{                     } &             \\\\\n",
       "\\bottomrule\n",
       "\\end{tabular}\n",
       "\\begin{tabular}{lcccccc}\n",
       "                   & \\textbf{coef} & \\textbf{std err} & \\textbf{t} & \\textbf{P$> |$t$|$} & \\textbf{[0.025} & \\textbf{0.975]}  \\\\\n",
       "\\midrule\n",
       "\\textbf{Intercept} &       0.5287  &        0.071     &     7.492  &         0.001        &        0.347    &        0.710     \\\\\n",
       "\\textbf{mass\\_std} &       0.1671  &        0.076     &     2.192  &         0.080        &       -0.029    &        0.363     \\\\\n",
       "\\bottomrule\n",
       "\\end{tabular}\n",
       "\\begin{tabular}{lclc}\n",
       "\\textbf{Omnibus:}       &    nan & \\textbf{  Durbin-Watson:     } &    1.561  \\\\\n",
       "\\textbf{Prob(Omnibus):} &    nan & \\textbf{  Jarque-Bera (JB):  } &    2.372  \\\\\n",
       "\\textbf{Skew:}          &  1.399 & \\textbf{  Prob(JB):          } &    0.305  \\\\\n",
       "\\textbf{Kurtosis:}      &  3.548 & \\textbf{  Cond. No.          } &     1.08  \\\\\n",
       "\\bottomrule\n",
       "\\end{tabular}\n",
       "%\\caption{OLS Regression Results}\n",
       "\\end{center}\n",
       "\n",
       "Notes: \\newline\n",
       " [1] Standard Errors assume that the covariance matrix of the errors is correctly specified."
      ],
      "text/plain": [
       "<class 'statsmodels.iolib.summary.Summary'>\n",
       "\"\"\"\n",
       "                            OLS Regression Results                            \n",
       "==============================================================================\n",
       "Dep. Variable:              brain_std   R-squared:                       0.490\n",
       "Model:                            OLS   Adj. R-squared:                  0.388\n",
       "Method:                 Least Squares   F-statistic:                     4.807\n",
       "Date:                Tue, 24 Jun 2025   Prob (F-statistic):             0.0798\n",
       "Time:                        18:35:03   Log-Likelihood:                 2.9925\n",
       "No. Observations:                   7   AIC:                            -1.985\n",
       "Df Residuals:                       5   BIC:                            -2.093\n",
       "Df Model:                           1                                         \n",
       "Covariance Type:            nonrobust                                         \n",
       "==============================================================================\n",
       "                 coef    std err          t      P>|t|      [0.025      0.975]\n",
       "------------------------------------------------------------------------------\n",
       "Intercept      0.5287      0.071      7.492      0.001       0.347       0.710\n",
       "mass_std       0.1671      0.076      2.192      0.080      -0.029       0.363\n",
       "==============================================================================\n",
       "Omnibus:                          nan   Durbin-Watson:                   1.561\n",
       "Prob(Omnibus):                    nan   Jarque-Bera (JB):                2.372\n",
       "Skew:                           1.399   Prob(JB):                        0.305\n",
       "Kurtosis:                       3.548   Cond. No.                         1.08\n",
       "==============================================================================\n",
       "\n",
       "Notes:\n",
       "[1] Standard Errors assume that the covariance matrix of the errors is correctly specified.\n",
       "\"\"\""
      ]
     },
     "execution_count": 10,
     "metadata": {},
     "output_type": "execute_result"
    }
   ],
   "source": [
    "m_7_1 = smf.ols(\"brain_std ~ mass_std\", data=brains).fit()\n",
    "m_7_1.summary()"
   ]
  },
  {
   "cell_type": "markdown",
   "metadata": {},
   "source": [
    "#### Code 7.4"
   ]
  },
  {
   "cell_type": "code",
   "execution_count": 11,
   "metadata": {},
   "outputs": [
    {
     "data": {
      "text/html": [
       "<div>\n",
       "<style scoped>\n",
       "    .dataframe tbody tr th:only-of-type {\n",
       "        vertical-align: middle;\n",
       "    }\n",
       "\n",
       "    .dataframe tbody tr th {\n",
       "        vertical-align: top;\n",
       "    }\n",
       "\n",
       "    .dataframe thead th {\n",
       "        text-align: right;\n",
       "    }\n",
       "</style>\n",
       "<table border=\"1\" class=\"dataframe\">\n",
       "  <thead>\n",
       "    <tr style=\"text-align: right;\">\n",
       "      <th></th>\n",
       "      <th>mean</th>\n",
       "      <th>sd</th>\n",
       "      <th>hdi_5.5%</th>\n",
       "      <th>hdi_94.5%</th>\n",
       "    </tr>\n",
       "  </thead>\n",
       "  <tbody>\n",
       "    <tr>\n",
       "      <th>b</th>\n",
       "      <td>0.169</td>\n",
       "      <td>0.074</td>\n",
       "      <td>0.058</td>\n",
       "      <td>0.294</td>\n",
       "    </tr>\n",
       "    <tr>\n",
       "      <th>a</th>\n",
       "      <td>0.528</td>\n",
       "      <td>0.069</td>\n",
       "      <td>0.410</td>\n",
       "      <td>0.634</td>\n",
       "    </tr>\n",
       "  </tbody>\n",
       "</table>\n",
       "</div>"
      ],
      "text/plain": [
       "    mean     sd  hdi_5.5%  hdi_94.5%\n",
       "b  0.169  0.074     0.058      0.294\n",
       "a  0.528  0.069     0.410      0.634"
      ]
     },
     "execution_count": 11,
     "metadata": {},
     "output_type": "execute_result"
    }
   ],
   "source": [
    "p, cov = np.polyfit(brains.loc[:, \"mass_std\"], brains.loc[:, \"brain_std\"], 1, cov=True)\n",
    "\n",
    "post = stats.multivariate_normal(p, cov).rvs(1000)\n",
    "\n",
    "az.summary({k: v for k, v in zip(\"ba\", post.T)}, kind=\"stats\")"
   ]
  },
  {
   "cell_type": "markdown",
   "metadata": {},
   "source": [
    "#### Code 7.5"
   ]
  },
  {
   "cell_type": "code",
   "execution_count": 12,
   "metadata": {},
   "outputs": [
    {
     "data": {
      "text/plain": [
       "np.float64(0.490158047949084)"
      ]
     },
     "execution_count": 12,
     "metadata": {},
     "output_type": "execute_result"
    }
   ],
   "source": [
    "1 - m_7_1.resid.var() / brains.brain_std.var()"
   ]
  },
  {
   "cell_type": "markdown",
   "metadata": {},
   "source": [
    "#### Code 7.6"
   ]
  },
  {
   "cell_type": "code",
   "execution_count": 13,
   "metadata": {},
   "outputs": [
    {
     "data": {
      "text/plain": [
       "np.float64(0.490158047949084)"
      ]
     },
     "execution_count": 13,
     "metadata": {},
     "output_type": "execute_result"
    }
   ],
   "source": [
    "def R2_is_bad(model):\n",
    "    return 1 - model.resid.var() / brains.brain_std.var()\n",
    "\n",
    "\n",
    "R2_is_bad(m_7_1)"
   ]
  },
  {
   "cell_type": "markdown",
   "metadata": {},
   "source": [
    "#### Code 7.7"
   ]
  },
  {
   "cell_type": "code",
   "execution_count": 14,
   "metadata": {},
   "outputs": [
    {
     "name": "stderr",
     "output_type": "stream",
     "text": [
      "C:\\Users\\risto\\AppData\\Local\\Packages\\PythonSoftwareFoundation.Python.3.13_qbz5n2kfra8p0\\LocalCache\\local-packages\\Python313\\site-packages\\statsmodels\\stats\\stattools.py:74: ValueWarning: omni_normtest is not valid with less than 8 observations; 7 samples were given.\n",
      "  warn(\"omni_normtest is not valid with less than 8 observations; %i \"\n"
     ]
    },
    {
     "data": {
      "text/html": [
       "<table class=\"simpletable\">\n",
       "<caption>OLS Regression Results</caption>\n",
       "<tr>\n",
       "  <th>Dep. Variable:</th>        <td>brain_std</td>    <th>  R-squared:         </th> <td>   0.536</td>\n",
       "</tr>\n",
       "<tr>\n",
       "  <th>Model:</th>                   <td>OLS</td>       <th>  Adj. R-squared:    </th> <td>   0.304</td>\n",
       "</tr>\n",
       "<tr>\n",
       "  <th>Method:</th>             <td>Least Squares</td>  <th>  F-statistic:       </th> <td>   2.310</td>\n",
       "</tr>\n",
       "<tr>\n",
       "  <th>Date:</th>             <td>Tue, 24 Jun 2025</td> <th>  Prob (F-statistic):</th>  <td> 0.215</td> \n",
       "</tr>\n",
       "<tr>\n",
       "  <th>Time:</th>                 <td>20:32:01</td>     <th>  Log-Likelihood:    </th> <td>  3.3223</td>\n",
       "</tr>\n",
       "<tr>\n",
       "  <th>No. Observations:</th>      <td>     7</td>      <th>  AIC:               </th> <td> -0.6445</td>\n",
       "</tr>\n",
       "<tr>\n",
       "  <th>Df Residuals:</th>          <td>     4</td>      <th>  BIC:               </th> <td> -0.8068</td>\n",
       "</tr>\n",
       "<tr>\n",
       "  <th>Df Model:</th>              <td>     2</td>      <th>                     </th>     <td> </td>   \n",
       "</tr>\n",
       "<tr>\n",
       "  <th>Covariance Type:</th>      <td>nonrobust</td>    <th>                     </th>     <td> </td>   \n",
       "</tr>\n",
       "</table>\n",
       "<table class=\"simpletable\">\n",
       "<tr>\n",
       "          <td></td>            <th>coef</th>     <th>std err</th>      <th>t</th>      <th>P>|t|</th>  <th>[0.025</th>    <th>0.975]</th>  \n",
       "</tr>\n",
       "<tr>\n",
       "  <th>Intercept</th>        <td>    0.6142</td> <td>    0.155</td> <td>    3.950</td> <td> 0.017</td> <td>    0.182</td> <td>    1.046</td>\n",
       "</tr>\n",
       "<tr>\n",
       "  <th>mass_std</th>         <td>    0.1957</td> <td>    0.093</td> <td>    2.101</td> <td> 0.104</td> <td>   -0.063</td> <td>    0.454</td>\n",
       "</tr>\n",
       "<tr>\n",
       "  <th>I(mass_std ** 2)</th> <td>   -0.0998</td> <td>    0.159</td> <td>   -0.629</td> <td> 0.564</td> <td>   -0.540</td> <td>    0.341</td>\n",
       "</tr>\n",
       "</table>\n",
       "<table class=\"simpletable\">\n",
       "<tr>\n",
       "  <th>Omnibus:</th>       <td>   nan</td> <th>  Durbin-Watson:     </th> <td>   1.479</td>\n",
       "</tr>\n",
       "<tr>\n",
       "  <th>Prob(Omnibus):</th> <td>   nan</td> <th>  Jarque-Bera (JB):  </th> <td>   1.016</td>\n",
       "</tr>\n",
       "<tr>\n",
       "  <th>Skew:</th>          <td> 0.901</td> <th>  Prob(JB):          </th> <td>   0.602</td>\n",
       "</tr>\n",
       "<tr>\n",
       "  <th>Kurtosis:</th>      <td> 2.514</td> <th>  Cond. No.          </th> <td>    4.04</td>\n",
       "</tr>\n",
       "</table><br/><br/>Notes:<br/>[1] Standard Errors assume that the covariance matrix of the errors is correctly specified."
      ],
      "text/latex": [
       "\\begin{center}\n",
       "\\begin{tabular}{lclc}\n",
       "\\toprule\n",
       "\\textbf{Dep. Variable:}    &    brain\\_std    & \\textbf{  R-squared:         } &     0.536   \\\\\n",
       "\\textbf{Model:}            &       OLS        & \\textbf{  Adj. R-squared:    } &     0.304   \\\\\n",
       "\\textbf{Method:}           &  Least Squares   & \\textbf{  F-statistic:       } &     2.310   \\\\\n",
       "\\textbf{Date:}             & Tue, 24 Jun 2025 & \\textbf{  Prob (F-statistic):} &    0.215    \\\\\n",
       "\\textbf{Time:}             &     20:32:01     & \\textbf{  Log-Likelihood:    } &    3.3223   \\\\\n",
       "\\textbf{No. Observations:} &           7      & \\textbf{  AIC:               } &   -0.6445   \\\\\n",
       "\\textbf{Df Residuals:}     &           4      & \\textbf{  BIC:               } &   -0.8068   \\\\\n",
       "\\textbf{Df Model:}         &           2      & \\textbf{                     } &             \\\\\n",
       "\\textbf{Covariance Type:}  &    nonrobust     & \\textbf{                     } &             \\\\\n",
       "\\bottomrule\n",
       "\\end{tabular}\n",
       "\\begin{tabular}{lcccccc}\n",
       "                           & \\textbf{coef} & \\textbf{std err} & \\textbf{t} & \\textbf{P$> |$t$|$} & \\textbf{[0.025} & \\textbf{0.975]}  \\\\\n",
       "\\midrule\n",
       "\\textbf{Intercept}         &       0.6142  &        0.155     &     3.950  &         0.017        &        0.182    &        1.046     \\\\\n",
       "\\textbf{mass\\_std}         &       0.1957  &        0.093     &     2.101  &         0.104        &       -0.063    &        0.454     \\\\\n",
       "\\textbf{I(mass\\_std ** 2)} &      -0.0998  &        0.159     &    -0.629  &         0.564        &       -0.540    &        0.341     \\\\\n",
       "\\bottomrule\n",
       "\\end{tabular}\n",
       "\\begin{tabular}{lclc}\n",
       "\\textbf{Omnibus:}       &    nan & \\textbf{  Durbin-Watson:     } &    1.479  \\\\\n",
       "\\textbf{Prob(Omnibus):} &    nan & \\textbf{  Jarque-Bera (JB):  } &    1.016  \\\\\n",
       "\\textbf{Skew:}          &  0.901 & \\textbf{  Prob(JB):          } &    0.602  \\\\\n",
       "\\textbf{Kurtosis:}      &  2.514 & \\textbf{  Cond. No.          } &     4.04  \\\\\n",
       "\\bottomrule\n",
       "\\end{tabular}\n",
       "%\\caption{OLS Regression Results}\n",
       "\\end{center}\n",
       "\n",
       "Notes: \\newline\n",
       " [1] Standard Errors assume that the covariance matrix of the errors is correctly specified."
      ],
      "text/plain": [
       "<class 'statsmodels.iolib.summary.Summary'>\n",
       "\"\"\"\n",
       "                            OLS Regression Results                            \n",
       "==============================================================================\n",
       "Dep. Variable:              brain_std   R-squared:                       0.536\n",
       "Model:                            OLS   Adj. R-squared:                  0.304\n",
       "Method:                 Least Squares   F-statistic:                     2.310\n",
       "Date:                Tue, 24 Jun 2025   Prob (F-statistic):              0.215\n",
       "Time:                        20:32:01   Log-Likelihood:                 3.3223\n",
       "No. Observations:                   7   AIC:                           -0.6445\n",
       "Df Residuals:                       4   BIC:                           -0.8068\n",
       "Df Model:                           2                                         \n",
       "Covariance Type:            nonrobust                                         \n",
       "====================================================================================\n",
       "                       coef    std err          t      P>|t|      [0.025      0.975]\n",
       "------------------------------------------------------------------------------------\n",
       "Intercept            0.6142      0.155      3.950      0.017       0.182       1.046\n",
       "mass_std             0.1957      0.093      2.101      0.104      -0.063       0.454\n",
       "I(mass_std ** 2)    -0.0998      0.159     -0.629      0.564      -0.540       0.341\n",
       "==============================================================================\n",
       "Omnibus:                          nan   Durbin-Watson:                   1.479\n",
       "Prob(Omnibus):                    nan   Jarque-Bera (JB):                1.016\n",
       "Skew:                           0.901   Prob(JB):                        0.602\n",
       "Kurtosis:                       2.514   Cond. No.                         4.04\n",
       "==============================================================================\n",
       "\n",
       "Notes:\n",
       "[1] Standard Errors assume that the covariance matrix of the errors is correctly specified.\n",
       "\"\"\""
      ]
     },
     "execution_count": 14,
     "metadata": {},
     "output_type": "execute_result"
    }
   ],
   "source": [
    "m_7_2 = smf.ols(\"brain_std ~ mass_std + I(mass_std**2)\", data=brains).fit()\n",
    "m_7_2.summary()"
   ]
  },
  {
   "cell_type": "markdown",
   "metadata": {},
   "source": [
    "#### Code 7.8"
   ]
  },
  {
   "cell_type": "code",
   "execution_count": 15,
   "metadata": {},
   "outputs": [],
   "source": [
    "m_7_3 = smf.ols(\"brain_std ~ mass_std + I(mass_std**2) + I(mass_std**3)\", data=brains).fit()\n",
    "m_7_4 = smf.ols(\n",
    "    \"brain_std ~ mass_std + I(mass_std**2) + I(mass_std**3) + I(mass_std**4)\",\n",
    "    data=brains,\n",
    ").fit()\n",
    "m_7_5 = smf.ols(\n",
    "    \"brain_std ~ mass_std + I(mass_std**2) + I(mass_std**3) + I(mass_std**4) + I(mass_std**5)\",\n",
    "    data=brains,\n",
    ").fit()"
   ]
  },
  {
   "cell_type": "markdown",
   "metadata": {},
   "source": [
    "#### Code 7.9"
   ]
  },
  {
   "cell_type": "code",
   "execution_count": 16,
   "metadata": {},
   "outputs": [],
   "source": [
    "m_7_6 = smf.ols(\n",
    "    \"brain_std ~ mass_std + I(mass_std**2) + I(mass_std**3) + I(mass_std**4) + I(mass_std**5) + I(mass_std**6)\",\n",
    "    data=brains,\n",
    ").fit()"
   ]
  },
  {
   "cell_type": "markdown",
   "metadata": {},
   "source": [
    "#### Code 7.10\n",
    "\n",
    "The chapter gives code to produce the first panel of Figure 7.3. Here, produce the entire figure by looping over models 7.1-7.6.\n",
    "\n",
    "To sample the posterior predictive on a new independent variable we make use of theano SharedVariable objects, as outlined [here](https://docs.pymc.io/notebooks/data_container.html)"
   ]
  },
  {
   "cell_type": "code",
   "execution_count": 17,
   "metadata": {},
   "outputs": [
    {
     "name": "stderr",
     "output_type": "stream",
     "text": [
      "C:\\Users\\risto\\AppData\\Local\\Packages\\PythonSoftwareFoundation.Python.3.13_qbz5n2kfra8p0\\LocalCache\\local-packages\\Python313\\site-packages\\statsmodels\\regression\\linear_model.py:1717: RuntimeWarning: divide by zero encountered in scalar divide\n",
      "  return np.dot(wresid, wresid) / self.df_resid\n",
      "C:\\Users\\risto\\AppData\\Local\\Packages\\PythonSoftwareFoundation.Python.3.13_qbz5n2kfra8p0\\LocalCache\\local-packages\\Python313\\site-packages\\statsmodels\\regression\\_prediction.py:201: RuntimeWarning: invalid value encountered in dot\n",
      "  var_pred_mean = (exog * np.dot(covb, exog.T).T).sum(1)\n"
     ]
    },
    {
     "data": {
      "image/png": "[encoded data removed]",
      "text/plain": [
       "<Figure size 600x850 with 6 Axes>"
      ]
     },
     "metadata": {},
     "output_type": "display_data"
    }
   ],
   "source": [
    "models = [m_7_1, m_7_2, m_7_3, m_7_4, m_7_5, m_7_6]\n",
    "names = [\"m_7_1\", \"m_7_2\", \"m_7_3\", \"m_7_4\", \"m_7_5\", \"m_7_6\"]\n",
    "\n",
    "mass_plot = np.linspace(33, 62, 100)\n",
    "mass_new = (mass_plot - brains.mass.mean()) / brains.mass.std()\n",
    "\n",
    "fig, axs = plt.subplots(3, 2, figsize=[6, 8.5], sharex=True, sharey=\"row\")\n",
    "\n",
    "for model, name, ax in zip(models, names, axs.flat):\n",
    "    prediction = model.get_prediction({\"mass_std\": mass_new})\n",
    "    pred = prediction.summary_frame(alpha=0.11) * brains.brain.max()\n",
    "\n",
    "    ax.plot(mass_plot, pred[\"mean\"])\n",
    "    ax.fill_between(mass_plot, pred[\"mean_ci_lower\"], pred[\"mean_ci_upper\"], alpha=0.3)\n",
    "    ax.scatter(brains.mass, brains.brain, color=\"C0\", s=15)\n",
    "\n",
    "    ax.set_title(f\"{name}: R^2: {model.rsquared:.2f}\", loc=\"left\", fontsize=11)\n",
    "\n",
    "    if ax.get_subplotspec().is_first_col():\n",
    "        ax.set_ylabel(\"brain volume (cc)\")\n",
    "\n",
    "    if ax.get_subplotspec().is_first_col():\n",
    "        ax.set_xlabel(\"body mass (kg)\")\n",
    "\n",
    "    if ax.get_subplotspec().is_first_col():\n",
    "        ax.set_ylim(-500, 2100)\n",
    "        ax.axhline(0, ls=\"dashed\", c=\"k\", lw=1)\n",
    "        ax.set_yticks([0, 450, 1300])\n",
    "    else:\n",
    "        ax.set_ylim(300, 1600)\n",
    "        ax.set_yticks([450, 900, 1300])"
   ]
  },
  {
   "cell_type": "markdown",
   "metadata": {},
   "source": [
    "#### Code 7.11 - this is R specific notation for dropping rows"
   ]
  },
  {
   "cell_type": "code",
   "execution_count": 18,
   "metadata": {},
   "outputs": [],
   "source": [
    "brains_new = brains.drop(brains.index[-1])"
   ]
  },
  {
   "cell_type": "code",
   "execution_count": 19,
   "metadata": {},
   "outputs": [
    {
     "data": {
      "image/png": "[encoded data removed]",
      "text/plain": [
       "<Figure size 800x300 with 2 Axes>"
      ]
     },
     "metadata": {},
     "output_type": "display_data"
    }
   ],
   "source": [
    "# Figure 7.4\n",
    "\n",
    "# this code taken from PyMC port of Rethinking/Chp_06.ipynb\n",
    "\n",
    "f, (ax1, ax2) = plt.subplots(1, 2, sharey=True, figsize=(8, 3))\n",
    "ax1.scatter(brains.mass, brains.brain, alpha=0.8)\n",
    "ax2.scatter(brains.mass, brains.brain, alpha=0.8)\n",
    "for i in range(len(brains)):\n",
    "    d_new = brains.drop(brains.index[-i])  # drop each data point in turn\n",
    "\n",
    "    # first order model\n",
    "    m0 = smf.ols(\"brain ~ mass\", d_new).fit()\n",
    "    # need to calculate regression line\n",
    "    # need to add intercept term explicitly\n",
    "    x = sm.add_constant(d_new.mass)  # add constant to new data frame with mass\n",
    "    x_pred = pd.DataFrame(\n",
    "        {\"mass\": np.linspace(x.mass.min() - 10, x.mass.max() + 10, 50)}\n",
    "    )  # create linspace dataframe\n",
    "    x_pred2 = sm.add_constant(x_pred)  # add constant to newly created linspace dataframe\n",
    "    y_pred = m0.predict(x_pred2)  # calculate predicted values\n",
    "    ax1.plot(x_pred, y_pred, \"gray\", alpha=0.5)\n",
    "    ax1.set_ylabel(\"body mass (kg)\", fontsize=12)\n",
    "    ax1.set_xlabel(\"brain volume (cc)\", fontsize=12)\n",
    "    ax1.set_title(\"Underfit model\")\n",
    "\n",
    "    # fifth order model\n",
    "    m1 = smf.ols(\n",
    "        \"brain ~ mass + I(mass**2) + I(mass**3) + I(mass**4) + I(mass**5)\", data=d_new\n",
    "    ).fit()\n",
    "    x = sm.add_constant(d_new.mass)  # add constant to new data frame with mass\n",
    "    x_pred = pd.DataFrame(\n",
    "        {\"mass\": np.linspace(x.mass.min() - 10, x.mass.max() + 10, 200)}\n",
    "    )  # create linspace dataframe\n",
    "    x_pred2 = sm.add_constant(x_pred)  # add constant to newly created linspace dataframe\n",
    "    y_pred = m1.predict(x_pred2)  # calculate predicted values from fitted model\n",
    "    ax2.plot(x_pred, y_pred, \"gray\", alpha=0.5)\n",
    "    ax2.set_xlim(32, 62)\n",
    "    ax2.set_ylim(-250, 2200)\n",
    "    ax2.set_ylabel(\"body mass (kg)\", fontsize=12)\n",
    "    ax2.set_xlabel(\"brain volume (cc)\", fontsize=12)\n",
    "    ax2.set_title(\"Overfit model\")"
   ]
  },
  {
   "cell_type": "markdown",
   "metadata": {},
   "source": [
    "#### Code 7.12"
   ]
  },
  {
   "cell_type": "code",
   "execution_count": 20,
   "metadata": {},
   "outputs": [
    {
     "data": {
      "text/plain": [
       "np.float64(0.6108643020548935)"
      ]
     },
     "execution_count": 20,
     "metadata": {},
     "output_type": "execute_result"
    }
   ],
   "source": [
    "p = np.array([0.3, 0.7])\n",
    "-np.sum(p * np.log(p))"
   ]
  },
  {
   "cell_type": "code",
   "execution_count": 21,
   "metadata": {},
   "outputs": [
    {
     "data": {
      "image/png": "[encoded data removed]",
      "text/plain": [
       "<Figure size 720x480 with 1 Axes>"
      ]
     },
     "metadata": {},
     "output_type": "display_data"
    }
   ],
   "source": [
    "# Figure 7.5\n",
    "p = np.array([0.3, 0.7])\n",
    "q = np.arange(0.01, 1, 0.01)\n",
    "DKL = np.sum(p * np.log(p / np.array([q, 1 - q]).T), 1)\n",
    "\n",
    "plt.plot(q, DKL)\n",
    "plt.xlabel(\"q[1]\")\n",
    "plt.ylabel(\"Divergence of q from p\")\n",
    "plt.axvline(0.3, ls=\"dashed\", color=\"k\")\n",
    "plt.text(0.315, 1.22, \"q = p\");"
   ]
  },
  {
   "cell_type": "markdown",
   "metadata": {},
   "source": [
    "#### Code 7.13 & 7.14"
   ]
  },
  {
   "cell_type": "code",
   "execution_count": 22,
   "metadata": {},
   "outputs": [],
   "source": [
    "n_samples = 3000\n",
    "\n",
    "intercept, slope = stats.multivariate_normal(m_7_1.params, m_7_1.cov_params()).rvs(n_samples).T\n",
    "\n",
    "pred = intercept + slope * brains.mass_std.values.reshape(-1, 1)\n",
    "\n",
    "n, ns = pred.shape"
   ]
  },
  {
   "cell_type": "code",
   "execution_count": 23,
   "metadata": {},
   "outputs": [
    {
     "data": {
      "text/plain": [
       "array([ 0.62060273,  0.66080837,  0.56608632,  0.62876608,  0.47909493,\n",
       "        0.44851465, -0.8559313 ])"
      ]
     },
     "execution_count": 23,
     "metadata": {},
     "output_type": "execute_result"
    }
   ],
   "source": [
    "# PyMC does not have a way to calculate LPPD directly, so we use the approach from 7.14\n",
    "\n",
    "sigmas = (np.sum((pred - brains.brain_std.values.reshape(-1, 1)) ** 2, 0) / 7) ** 0.5\n",
    "ll = np.zeros((n, ns))\n",
    "for s in range(ns):\n",
    "    logprob = stats.norm.logpdf(brains.brain_std, pred[:, s], sigmas[s])\n",
    "    ll[:, s] = logprob\n",
    "\n",
    "lppd = np.zeros(n)\n",
    "for i in range(n):\n",
    "    lppd[i] = logsumexp(ll[i]) - np.log(ns)\n",
    "\n",
    "lppd"
   ]
  },
  {
   "cell_type": "markdown",
   "metadata": {},
   "source": [
    "#### Code 7.15"
   ]
  },
  {
   "cell_type": "code",
   "execution_count": 24,
   "metadata": {},
   "outputs": [],
   "source": [
    "# make an lppd function that can be applied to all models (from code above)\n",
    "def lppd(model, n_samples=1e4):\n",
    "    n_samples = int(n_samples)\n",
    "\n",
    "    pars = stats.multivariate_normal(model.params, model.cov_params()).rvs(n_samples).T\n",
    "    dmat = dmatrix(\n",
    "        model.model.data.design_info, brains, return_type=\"dataframe\"\n",
    "    ).values  # get model design matrix\n",
    "    pred = dmat.dot(pars)\n",
    "\n",
    "    n, ns = pred.shape\n",
    "\n",
    "    # this approach for calculating lppd isfrom 7.14\n",
    "    sigmas = (np.sum((pred - brains.brain_std.values.reshape(-1, 1)) ** 2, 0) / 7) ** 0.5\n",
    "    ll = np.zeros((n, ns))\n",
    "    for s in range(ns):\n",
    "        logprob = stats.norm.logpdf(brains.brain_std, pred[:, s], sigmas[s])\n",
    "        ll[:, s] = logprob\n",
    "\n",
    "    lppd = np.zeros(n)\n",
    "    for i in range(n):\n",
    "        lppd[i] = logsumexp(ll[i]) - np.log(ns)\n",
    "\n",
    "    return lppd"
   ]
  },
  {
   "cell_type": "code",
   "execution_count": 25,
   "metadata": {},
   "outputs": [
    {
     "data": {
      "text/plain": [
       "array([ 2.54799078,  2.3115561 ,  2.89843278,  3.53621752, 11.04367575])"
      ]
     },
     "execution_count": 25,
     "metadata": {},
     "output_type": "execute_result"
    }
   ],
   "source": [
    "# model 7_6 does not work with OLS because its covariance matrix is not finite.\n",
    "lppds = np.array(list(map(lppd, models[:-1], [1000] * len(models[:-1]))))\n",
    "\n",
    "lppds.sum(1)"
   ]
  },
  {
   "cell_type": "markdown",
   "metadata": {},
   "source": [
    "#### Code 7.16\n",
    "\n",
    "This relies on the `sim.train.test` function in the `rethinking` package. [This](https://github.com/rmcelreath/rethinking/blob/master/R/sim_train_test.R) is the original function.\n",
    "\n",
    "The python port of this function below is from [Rethinking/Chp_06](https://nbviewer.jupyter.org/github/pymc-devs/resources/blob/master/Rethinking/Chp_06.ipynb) Code 6.12."
   ]
  },
  {
   "cell_type": "code",
   "execution_count": 26,
   "metadata": {},
   "outputs": [],
   "source": [
    "def sim_train_test(N=20, k=3, rho=[0.15, -0.4], b_sigma=100, samples=1000):\n",
    "\n",
    "    n_dim = 1 + len(rho)\n",
    "    if n_dim < k:\n",
    "        n_dim = k\n",
    "    Rho = np.diag(np.ones(n_dim))\n",
    "    Rho[0, 1:3:1] = rho\n",
    "    i_lower = np.tril_indices(n_dim, -1)\n",
    "    Rho[i_lower] = Rho.T[i_lower]\n",
    "\n",
    "    x_train = stats.multivariate_normal.rvs(cov=Rho, size=N)\n",
    "    x_test = stats.multivariate_normal.rvs(cov=Rho, size=N)\n",
    "\n",
    "    mm_train = np.ones((N, 1))\n",
    "\n",
    "    np.concatenate([mm_train, x_train[:, 1:k]], axis=1)\n",
    "\n",
    "    # Using pymc\n",
    "    with pm.Model() as m_sim:\n",
    "        vec_V = pm.MvNormal(\n",
    "            \"vec_V\",\n",
    "            mu=0,\n",
    "            cov=b_sigma * np.eye(n_dim),\n",
    "            shape=(1, n_dim),\n",
    "            initval=np.random.randn(1, n_dim) * 0.01,\n",
    "        )\n",
    "        mu = pm.Deterministic(\"mu\", 0 + pm.math.dot(x_train, vec_V.T))\n",
    "        y = pm.Normal(\"y\", mu=mu, sigma=1, observed=x_train[:, 0].reshape(-1, 1))\n",
    "\n",
    "    with m_sim:\n",
    "        trace_m_sim = pm.sample(samples, progressbar=False)\n",
    "\n",
    "    vec = az.summary(trace_m_sim)[\"mean\"][:n_dim]\n",
    "    vec = np.array([i for i in vec]).reshape(n_dim, -1)\n",
    "\n",
    "    dev_train = -2 * sum(stats.norm.logpdf(x_train, loc=np.matmul(x_train, vec), scale=1))\n",
    "\n",
    "    mm_test = np.ones((N, 1))\n",
    "\n",
    "    mm_test = np.concatenate([mm_test, x_test[:, 1 : k + 1]], axis=1)\n",
    "\n",
    "    dev_test = -2 * sum(stats.norm.logpdf(x_test[:, 0], loc=np.matmul(mm_test, vec), scale=1))\n",
    "\n",
    "    return np.mean(dev_train), np.mean(dev_test)"
   ]
  },
  {
   "cell_type": "code",
   "execution_count": 27,
   "metadata": {},
   "outputs": [
    {
     "name": "stdout",
     "output_type": "stream",
     "text": [
      "Num Params: 2\n"
     ]
    },
    {
     "name": "stderr",
     "output_type": "stream",
     "text": [
      "100%|██████████████████████████████████████████████████████████████████████████████████████████████████████████████| 10/10 [02:35<00:00, 15.60s/it]\n"
     ]
    },
    {
     "name": "stdout",
     "output_type": "stream",
     "text": [
      "Num Params: 3\n"
     ]
    },
    {
     "name": "stderr",
     "output_type": "stream",
     "text": [
      "100%|██████████████████████████████████████████████████████████████████████████████████████████████████████████████| 10/10 [02:34<00:00, 15.49s/it]\n"
     ]
    },
    {
     "name": "stdout",
     "output_type": "stream",
     "text": [
      "Num Params: 4\n"
     ]
    },
    {
     "name": "stderr",
     "output_type": "stream",
     "text": [
      "100%|██████████████████████████████████████████████████████████████████████████████████████████████████████████████| 10/10 [02:49<00:00, 16.94s/it]\n"
     ]
    },
    {
     "name": "stdout",
     "output_type": "stream",
     "text": [
      "Num Params: 5\n"
     ]
    },
    {
     "name": "stderr",
     "output_type": "stream",
     "text": [
      "100%|██████████████████████████████████████████████████████████████████████████████████████████████████████████████| 10/10 [02:42<00:00, 16.24s/it]\n"
     ]
    },
    {
     "name": "stdout",
     "output_type": "stream",
     "text": [
      "Num Params: 6\n"
     ]
    },
    {
     "name": "stderr",
     "output_type": "stream",
     "text": [
      "100%|██████████████████████████████████████████████████████████████████████████████████████████████████████████████| 10/10 [02:45<00:00, 16.52s/it]\n"
     ]
    }
   ],
   "source": [
    "# This cell is expected have a long run time\n",
    "n = 20\n",
    "tries = 10\n",
    "param = 6\n",
    "r = np.zeros(shape=(param - 1, 4))\n",
    "\n",
    "train = []\n",
    "test = []\n",
    "\n",
    "# setting log output to error\n",
    "logger = logging.getLogger(\"pymc\")\n",
    "init_level = logger.level\n",
    "logger.setLevel(logging.ERROR)\n",
    "\n",
    "for j in range(2, param + 1):\n",
    "    print(f\"Num Params: {j}\")\n",
    "    for i in tqdm.tqdm(range(1, tries + 1)):\n",
    "        tr, te = sim_train_test(N=n, k=param, samples=1000)\n",
    "        train.append(tr), test.append(te)\n",
    "    r[j - 2, :] = (\n",
    "        np.mean(train),\n",
    "        np.std(train, ddof=1),\n",
    "        np.mean(test),\n",
    "        np.std(test, ddof=1),\n",
    "    )\n",
    "\n",
    "# resetting logger level\n",
    "logger.setLevel(init_level)"
   ]
  },
  {
   "cell_type": "markdown",
   "metadata": {},
   "source": [
    "#### Code 7.17\n",
    "\n",
    "Does not apply because multi-threading is automatic in PyMC."
   ]
  },
  {
   "cell_type": "markdown",
   "metadata": {},
   "source": [
    "#### Code 7.18"
   ]
  },
  {
   "cell_type": "code",
   "execution_count": 28,
   "metadata": {},
   "outputs": [
    {
     "data": {
      "image/png": "[encoded data removed]",
      "text/plain": [
       "<Figure size 1000x600 with 1 Axes>"
      ]
     },
     "metadata": {},
     "output_type": "display_data"
    }
   ],
   "source": [
    "num_param = np.arange(2, param + 1)\n",
    "\n",
    "plt.figure(figsize=(10, 6))\n",
    "plt.scatter(num_param, r[:, 0], color=\"C0\")\n",
    "plt.xticks(num_param)\n",
    "\n",
    "for j in range(param - 1):\n",
    "    plt.vlines(\n",
    "        num_param[j],\n",
    "        r[j, 0] - r[j, 1],\n",
    "        r[j, 0] + r[j, 1],\n",
    "        color=\"mediumblue\",\n",
    "        zorder=-1,\n",
    "        alpha=0.80,\n",
    "    )\n",
    "\n",
    "plt.scatter(num_param + 0.1, r[:, 2], facecolors=\"none\", edgecolors=\"k\")\n",
    "\n",
    "for j in range(param - 1):\n",
    "    plt.vlines(\n",
    "        num_param[j] + 0.1,\n",
    "        r[j, 2] - r[j, 3],\n",
    "        r[j, 2] + r[j, 3],\n",
    "        color=\"k\",\n",
    "        zorder=-2,\n",
    "        alpha=0.70,\n",
    "    )\n",
    "\n",
    "dist = 0.20\n",
    "plt.text(num_param[1] - dist, r[1, 0] - dist, \"in\", color=\"C0\", fontsize=13)\n",
    "plt.text(num_param[1] + dist, r[1, 2] - dist, \"out\", color=\"k\", fontsize=13)\n",
    "plt.text(num_param[1] + dist, r[1, 2] + r[1, 3] - dist, \"+1 SD\", color=\"k\", fontsize=10)\n",
    "plt.text(num_param[1] + dist, r[1, 2] - r[1, 3] - dist, \"+1 SD\", color=\"k\", fontsize=10)\n",
    "plt.xlabel(\"Number of parameters\", fontsize=14)\n",
    "plt.ylabel(\"Deviance\", fontsize=14)\n",
    "plt.title(f\"N = {n}\", fontsize=14)\n",
    "plt.show()"
   ]
  },
  {
   "cell_type": "markdown",
   "metadata": {},
   "source": [
    "These uncertainties are a *lot* larger than in the book... MCMC vs OLS again?"
   ]
  },
  {
   "cell_type": "markdown",
   "metadata": {},
   "source": [
    "#### Code 7.19\n",
    "\n",
    "7.19 to 7.25 transcribed directly from 6.15-6.20 in [Chapter 6 of 1st Edition](https://nbviewer.jupyter.org/github/pymc-devs/resources/blob/master/Rethinking/Chp_06.ipynb)."
   ]
  },
  {
   "cell_type": "code",
   "execution_count": 29,
   "metadata": {},
   "outputs": [],
   "source": [
    "data = pd.read_csv(\"Data/cars.csv\", sep=\",\", index_col=0)"
   ]
  },
  {
   "cell_type": "code",
   "execution_count": 30,
   "metadata": {},
   "outputs": [
    {
     "name": "stderr",
     "output_type": "stream",
     "text": [
      "Initializing NUTS using jitter+adapt_diag...\n",
      "Multiprocess sampling (4 chains in 4 jobs)\n",
      "NUTS: [a, b, sigma]\n"
     ]
    },
    {
     "data": {
      "text/html": [
       "<pre style=\"white-space:pre;overflow-x:auto;line-height:normal;font-family:Menlo,'DejaVu Sans Mono',consolas,'Courier New',monospace\">C:\\Users\\risto\\AppData\\Local\\Packages\\PythonSoftwareFoundation.Python.3.13_qbz5n2kfra8p0\\LocalCache\\local-packages\\\n",
       "Python313\\site-packages\\rich\\live.py:231: UserWarning: install \"ipywidgets\" for Jupyter support\n",
       "  warnings.warn('install \"ipywidgets\" for Jupyter support')\n",
       "</pre>\n"
      ],
      "text/plain": [
       "C:\\Users\\risto\\AppData\\Local\\Packages\\PythonSoftwareFoundation.Python.3.13_qbz5n2kfra8p0\\LocalCache\\local-packages\\\n",
       "Python313\\site-packages\\rich\\live.py:231: UserWarning: install \"ipywidgets\" for Jupyter support\n",
       "  warnings.warn('install \"ipywidgets\" for Jupyter support')\n"
      ]
     },
     "metadata": {},
     "output_type": "display_data"
    },
    {
     "data": {
      "text/html": [
       "<pre style=\"white-space:pre;overflow-x:auto;line-height:normal;font-family:Menlo,'DejaVu Sans Mono',consolas,'Courier New',monospace\"></pre>\n"
      ],
      "text/plain": []
     },
     "metadata": {},
     "output_type": "display_data"
    },
    {
     "name": "stderr",
     "output_type": "stream",
     "text": [
      "Sampling 4 chains for 10_000 tune and 5_000 draw iterations (40_000 + 20_000 draws total) took 687 seconds.\n",
      "C:\\Users\\risto\\AppData\\Local\\Temp\\ipykernel_22624\\1693198948.py:9: FutureWarning: extract_dataset has been deprecated, please use extract\n",
      "  post = az.extract_dataset(m.posterior)\n"
     ]
    }
   ],
   "source": [
    "with pm.Model() as m:\n",
    "    a = pm.Normal(\"a\", mu=0, sigma=100)\n",
    "    b = pm.Normal(\"b\", mu=0, sigma=10)\n",
    "    sigma = pm.Uniform(\"sigma\", 0, 30)\n",
    "    mu = pm.Deterministic(\"mu\", a + b * data[\"speed\"].values)\n",
    "    dist = pm.Normal(\"dist\", mu=mu, sigma=sigma, observed=data[\"dist\"].values)\n",
    "    m = pm.sample(5000, tune=10000)\n",
    "\n",
    "post = az.extract_dataset(m.posterior)\n",
    "post = post.sel(draw=slice(None, None, int(len(post.sample) / 1000)))"
   ]
  },
  {
   "cell_type": "markdown",
   "metadata": {},
   "source": [
    "#### Code 7.20"
   ]
  },
  {
   "cell_type": "code",
   "execution_count": 31,
   "metadata": {},
   "outputs": [],
   "source": [
    "n_samples = 1000\n",
    "n_cases = data.shape[0]\n",
    "logprob = np.zeros((n_cases, n_samples))\n",
    "\n",
    "for s in range(0, n_samples):\n",
    "    mu = post[\"a\"][s].values + post[\"b\"][s].values * data[\"speed\"].values\n",
    "    p_ = stats.norm.logpdf(data[\"dist\"], loc=mu, scale=post[\"sigma\"][s])\n",
    "    logprob[:, s] = p_"
   ]
  },
  {
   "cell_type": "markdown",
   "metadata": {},
   "source": [
    "#### Code 7.21"
   ]
  },
  {
   "cell_type": "code",
   "execution_count": 32,
   "metadata": {},
   "outputs": [],
   "source": [
    "n_cases = data.shape[0]\n",
    "lppd = np.zeros(n_cases)\n",
    "for a in range(1, n_cases):\n",
    "    lppd[a] = logsumexp(logprob[a]) - np.log(n_samples)"
   ]
  },
  {
   "cell_type": "markdown",
   "metadata": {},
   "source": [
    "#### Code 7.22"
   ]
  },
  {
   "cell_type": "code",
   "execution_count": 33,
   "metadata": {},
   "outputs": [],
   "source": [
    "pWAIC = np.zeros(n_cases)\n",
    "for i in range(1, n_cases):\n",
    "    pWAIC[i] = np.var(logprob[i])"
   ]
  },
  {
   "cell_type": "markdown",
   "metadata": {},
   "source": [
    "#### Code 7.23"
   ]
  },
  {
   "cell_type": "code",
   "execution_count": 34,
   "metadata": {},
   "outputs": [
    {
     "data": {
      "text/plain": [
       "np.float64(412.1213198369638)"
      ]
     },
     "execution_count": 34,
     "metadata": {},
     "output_type": "execute_result"
    }
   ],
   "source": [
    "-2 * (sum(lppd) - sum(pWAIC))"
   ]
  },
  {
   "cell_type": "markdown",
   "metadata": {},
   "source": [
    "#### Code 7.24"
   ]
  },
  {
   "cell_type": "code",
   "execution_count": 35,
   "metadata": {},
   "outputs": [
    {
     "data": {
      "text/plain": [
       "np.float64(14.948188078580868)"
      ]
     },
     "execution_count": 35,
     "metadata": {},
     "output_type": "execute_result"
    }
   ],
   "source": [
    "waic_vec = -2 * (lppd - pWAIC)\n",
    "(n_cases * np.var(waic_vec)) ** 0.5"
   ]
  },
  {
   "cell_type": "markdown",
   "metadata": {},
   "source": [
    "#### Setup for Code 7.25+\n",
    "\n",
    "Have to reproduce m6.6-m6.8 from Code 6.13-6.17 in Chapter 6"
   ]
  },
  {
   "cell_type": "code",
   "execution_count": 32,
   "metadata": {},
   "outputs": [
    {
     "name": "stderr",
     "output_type": "stream",
     "text": [
      "Auto-assigning NUTS sampler...\n",
      "Initializing NUTS using jitter+adapt_diag...\n",
      "Multiprocess sampling (4 chains in 4 jobs)\n",
      "NUTS: [p, sigma]\n"
     ]
    },
    {
     "data": {
      "text/html": [
       "\n",
       "<style>\n",
       "    /* Turns off some styling */\n",
       "    progress {\n",
       "        /* gets rid of default border in Firefox and Opera. */\n",
       "        border: none;\n",
       "        /* Needs to be in here for Safari polyfill so background images work as expected. */\n",
       "        background-size: auto;\n",
       "    }\n",
       "    .progress-bar-interrupted, .progress-bar-interrupted::-webkit-progress-bar {\n",
       "        background: #F44336;\n",
       "    }\n",
       "</style>\n"
      ],
      "text/plain": [
       "<IPython.core.display.HTML object>"
      ]
     },
     "metadata": {},
     "output_type": "display_data"
    },
    {
     "data": {
      "text/html": [
       "\n",
       "    <div>\n",
       "      <progress value='8000' class='' max='8000' style='width:300px; height:20px; vertical-align: middle;'></progress>\n",
       "      100.00% [8000/8000 00:06<00:00 Sampling 4 chains, 0 divergences]\n",
       "    </div>\n",
       "    "
      ],
      "text/plain": [
       "<IPython.core.display.HTML object>"
      ]
     },
     "metadata": {},
     "output_type": "display_data"
    },
    {
     "name": "stderr",
     "output_type": "stream",
     "text": [
      "Sampling 4 chains for 1_000 tune and 1_000 draw iterations (4_000 + 4_000 draws total) took 26 seconds.\n",
      "Auto-assigning NUTS sampler...\n",
      "Initializing NUTS using jitter+adapt_diag...\n",
      "Multiprocess sampling (4 chains in 4 jobs)\n",
      "NUTS: [a, bt, bf, sigma]\n"
     ]
    },
    {
     "data": {
      "text/html": [
       "\n",
       "<style>\n",
       "    /* Turns off some styling */\n",
       "    progress {\n",
       "        /* gets rid of default border in Firefox and Opera. */\n",
       "        border: none;\n",
       "        /* Needs to be in here for Safari polyfill so background images work as expected. */\n",
       "        background-size: auto;\n",
       "    }\n",
       "    .progress-bar-interrupted, .progress-bar-interrupted::-webkit-progress-bar {\n",
       "        background: #F44336;\n",
       "    }\n",
       "</style>\n"
      ],
      "text/plain": [
       "<IPython.core.display.HTML object>"
      ]
     },
     "metadata": {},
     "output_type": "display_data"
    },
    {
     "data": {
      "text/html": [
       "\n",
       "    <div>\n",
       "      <progress value='8000' class='' max='8000' style='width:300px; height:20px; vertical-align: middle;'></progress>\n",
       "      100.00% [8000/8000 00:09<00:00 Sampling 4 chains, 0 divergences]\n",
       "    </div>\n",
       "    "
      ],
      "text/plain": [
       "<IPython.core.display.HTML object>"
      ]
     },
     "metadata": {},
     "output_type": "display_data"
    },
    {
     "name": "stderr",
     "output_type": "stream",
     "text": [
      "Sampling 4 chains for 1_000 tune and 1_000 draw iterations (4_000 + 4_000 draws total) took 26 seconds.\n",
      "Auto-assigning NUTS sampler...\n",
      "Initializing NUTS using jitter+adapt_diag...\n",
      "Multiprocess sampling (4 chains in 4 jobs)\n",
      "NUTS: [a, bt, sigma]\n"
     ]
    },
    {
     "data": {
      "text/html": [
       "\n",
       "<style>\n",
       "    /* Turns off some styling */\n",
       "    progress {\n",
       "        /* gets rid of default border in Firefox and Opera. */\n",
       "        border: none;\n",
       "        /* Needs to be in here for Safari polyfill so background images work as expected. */\n",
       "        background-size: auto;\n",
       "    }\n",
       "    .progress-bar-interrupted, .progress-bar-interrupted::-webkit-progress-bar {\n",
       "        background: #F44336;\n",
       "    }\n",
       "</style>\n"
      ],
      "text/plain": [
       "<IPython.core.display.HTML object>"
      ]
     },
     "metadata": {},
     "output_type": "display_data"
    },
    {
     "data": {
      "text/html": [
       "\n",
       "    <div>\n",
       "      <progress value='8000' class='' max='8000' style='width:300px; height:20px; vertical-align: middle;'></progress>\n",
       "      100.00% [8000/8000 00:10<00:00 Sampling 4 chains, 0 divergences]\n",
       "    </div>\n",
       "    "
      ],
      "text/plain": [
       "<IPython.core.display.HTML object>"
      ]
     },
     "metadata": {},
     "output_type": "display_data"
    },
    {
     "name": "stderr",
     "output_type": "stream",
     "text": [
      "Sampling 4 chains for 1_000 tune and 1_000 draw iterations (4_000 + 4_000 draws total) took 30 seconds.\n"
     ]
    }
   ],
   "source": [
    "# number of plants\n",
    "N = 100\n",
    "# simulate initial heights\n",
    "h0 = np.random.normal(10, 2, N)\n",
    "# assign treatments and simulate fungus and growth\n",
    "treatment = np.repeat([0, 1], N / 2)\n",
    "fungus = np.random.binomial(n=1, p=0.5 - treatment * 0.4, size=N)\n",
    "h1 = h0 + np.random.normal(5 - 3 * fungus, size=N)\n",
    "# compose a clean data frame\n",
    "d = pd.DataFrame.from_dict({\"h0\": h0, \"h1\": h1, \"treatment\": treatment, \"fungus\": fungus})\n",
    "\n",
    "with pm.Model() as m_6_6:\n",
    "    p = pm.Lognormal(\"p\", 0, 0.25)\n",
    "\n",
    "    mu = pm.Deterministic(\"mu\", p * d.h0.values)\n",
    "    sigma = pm.Exponential(\"sigma\", 1)\n",
    "\n",
    "    h1 = pm.Normal(\"h1\", mu=mu, sigma=sigma, observed=d.h1.values)\n",
    "\n",
    "    m_6_6_trace = pm.sample(return_inferencedata=True)\n",
    "\n",
    "with pm.Model() as m_6_7:\n",
    "    a = pm.Normal(\"a\", 0, 0.2)\n",
    "    bt = pm.Normal(\"bt\", 0, 0.5)\n",
    "    bf = pm.Normal(\"bf\", 0, 0.5)\n",
    "\n",
    "    p = a + bt * d.treatment.values + bf * d.fungus.values\n",
    "\n",
    "    mu = pm.Deterministic(\"mu\", p * d.h0.values)\n",
    "    sigma = pm.Exponential(\"sigma\", 1)\n",
    "\n",
    "    h1 = pm.Normal(\"h1\", mu=mu, sigma=sigma, observed=d.h1.values)\n",
    "\n",
    "    m_6_7_trace = pm.sample(return_inferencedata=True)\n",
    "\n",
    "with pm.Model() as m_6_8:\n",
    "    a = pm.Normal(\"a\", 0, 0.2)\n",
    "    bt = pm.Normal(\"bt\", 0, 0.5)\n",
    "\n",
    "    p = a + bt * d.treatment.values\n",
    "\n",
    "    mu = pm.Deterministic(\"mu\", p * d.h0.values)\n",
    "    sigma = pm.Exponential(\"sigma\", 1)\n",
    "\n",
    "    h1 = pm.Normal(\"h1\", mu=mu, sigma=sigma, observed=d.h1.values)\n",
    "\n",
    "    m_6_8_trace = pm.sample(return_inferencedata=True)"
   ]
  },
  {
   "cell_type": "markdown",
   "metadata": {},
   "source": [
    "#### Code 7.25"
   ]
  },
  {
   "cell_type": "code",
   "execution_count": 33,
   "metadata": {},
   "outputs": [
    {
     "data": {
      "text/plain": [
       "Computed from 4000 posterior samples and 100 observations log-likelihood matrix.\n",
       "\n",
       "              Estimate       SE\n",
       "deviance_waic   321.55    13.19\n",
       "p_waic            3.43        -"
      ]
     },
     "execution_count": 33,
     "metadata": {},
     "output_type": "execute_result"
    }
   ],
   "source": [
    "az.waic(m_6_7_trace, m_6_7, scale=\"deviance\")"
   ]
  },
  {
   "cell_type": "markdown",
   "metadata": {},
   "source": [
    "#### Code 7.26"
   ]
  },
  {
   "cell_type": "code",
   "execution_count": 34,
   "metadata": {},
   "outputs": [
    {
     "data": {
      "text/html": [
       "<div>\n",
       "<style scoped>\n",
       "    .dataframe tbody tr th:only-of-type {\n",
       "        vertical-align: middle;\n",
       "    }\n",
       "\n",
       "    .dataframe tbody tr th {\n",
       "        vertical-align: top;\n",
       "    }\n",
       "\n",
       "    .dataframe thead th {\n",
       "        text-align: right;\n",
       "    }\n",
       "</style>\n",
       "<table border=\"1\" class=\"dataframe\">\n",
       "  <thead>\n",
       "    <tr style=\"text-align: right;\">\n",
       "      <th></th>\n",
       "      <th>rank</th>\n",
       "      <th>waic</th>\n",
       "      <th>p_waic</th>\n",
       "      <th>d_waic</th>\n",
       "      <th>weight</th>\n",
       "      <th>se</th>\n",
       "      <th>dse</th>\n",
       "      <th>warning</th>\n",
       "      <th>waic_scale</th>\n",
       "    </tr>\n",
       "  </thead>\n",
       "  <tbody>\n",
       "    <tr>\n",
       "      <th>m_6_7</th>\n",
       "      <td>0</td>\n",
       "      <td>321.552649</td>\n",
       "      <td>3.429377</td>\n",
       "      <td>0.000000</td>\n",
       "      <td>1.000000e+00</td>\n",
       "      <td>13.186030</td>\n",
       "      <td>0.000000</td>\n",
       "      <td>False</td>\n",
       "      <td>deviance</td>\n",
       "    </tr>\n",
       "    <tr>\n",
       "      <th>m_6_8</th>\n",
       "      <td>1</td>\n",
       "      <td>406.079856</td>\n",
       "      <td>2.778572</td>\n",
       "      <td>84.527208</td>\n",
       "      <td>4.417231e-19</td>\n",
       "      <td>12.682459</td>\n",
       "      <td>12.461968</td>\n",
       "      <td>False</td>\n",
       "      <td>deviance</td>\n",
       "    </tr>\n",
       "    <tr>\n",
       "      <th>m_6_6</th>\n",
       "      <td>2</td>\n",
       "      <td>423.488372</td>\n",
       "      <td>1.629363</td>\n",
       "      <td>101.935724</td>\n",
       "      <td>7.327213e-23</td>\n",
       "      <td>11.507223</td>\n",
       "      <td>12.825019</td>\n",
       "      <td>False</td>\n",
       "      <td>deviance</td>\n",
       "    </tr>\n",
       "  </tbody>\n",
       "</table>\n",
       "</div>"
      ],
      "text/plain": [
       "       rank        waic    p_waic      d_waic        weight         se  \\\n",
       "m_6_7     0  321.552649  3.429377    0.000000  1.000000e+00  13.186030   \n",
       "m_6_8     1  406.079856  2.778572   84.527208  4.417231e-19  12.682459   \n",
       "m_6_6     2  423.488372  1.629363  101.935724  7.327213e-23  11.507223   \n",
       "\n",
       "             dse  warning waic_scale  \n",
       "m_6_7   0.000000    False   deviance  \n",
       "m_6_8  12.461968    False   deviance  \n",
       "m_6_6  12.825019    False   deviance  "
      ]
     },
     "execution_count": 34,
     "metadata": {},
     "output_type": "execute_result"
    }
   ],
   "source": [
    "compare_df = az.compare(\n",
    "    {\n",
    "        \"m_6_6\": m_6_6_trace,\n",
    "        \"m_6_7\": m_6_7_trace,\n",
    "        \"m_6_8\": m_6_8_trace,\n",
    "    },\n",
    "    method=\"pseudo-BMA\",\n",
    "    ic=\"waic\",\n",
    "    scale=\"deviance\",\n",
    ")\n",
    "compare_df"
   ]
  },
  {
   "cell_type": "markdown",
   "metadata": {},
   "source": [
    "#### Code 7.27"
   ]
  },
  {
   "cell_type": "code",
   "execution_count": 35,
   "metadata": {},
   "outputs": [
    {
     "data": {
      "text/plain": [
       "array(12.46196794)"
      ]
     },
     "execution_count": 35,
     "metadata": {},
     "output_type": "execute_result"
    }
   ],
   "source": [
    "waic_m_6_7 = az.waic(m_6_7_trace, pointwise=True, scale=\"deviance\")\n",
    "waic_m_6_8 = az.waic(m_6_8_trace, pointwise=True, scale=\"deviance\")\n",
    "\n",
    "# pointwise values are stored in the waic_i attribute.\n",
    "diff_m_6_7_m_6_8 = waic_m_6_7.waic_i - waic_m_6_8.waic_i\n",
    "\n",
    "n = len(diff_m_6_7_m_6_8)\n",
    "\n",
    "np.sqrt(n * np.var(diff_m_6_7_m_6_8)).values"
   ]
  },
  {
   "cell_type": "markdown",
   "metadata": {},
   "source": [
    "#### Code 7.28"
   ]
  },
  {
   "cell_type": "code",
   "execution_count": 36,
   "metadata": {},
   "outputs": [
    {
     "data": {
      "text/plain": [
       "array([12.96, 67.04])"
      ]
     },
     "execution_count": 36,
     "metadata": {},
     "output_type": "execute_result"
    }
   ],
   "source": [
    "40.0 + np.array([-1, 1]) * 10.4 * 2.6"
   ]
  },
  {
   "cell_type": "markdown",
   "metadata": {},
   "source": [
    "#### Code 7.29"
   ]
  },
  {
   "cell_type": "code",
   "execution_count": 37,
   "metadata": {},
   "outputs": [
    {
     "data": {
      "image/png": "[encoded data removed]",
      "text/plain": [
       "<Figure size 432x216 with 1 Axes>"
      ]
     },
     "metadata": {
      "needs_background": "light"
     },
     "output_type": "display_data"
    }
   ],
   "source": [
    "az.plot_compare(compare_df);"
   ]
  },
  {
   "cell_type": "markdown",
   "metadata": {},
   "source": [
    "#### Code 7.30"
   ]
  },
  {
   "cell_type": "code",
   "execution_count": 38,
   "metadata": {},
   "outputs": [
    {
     "data": {
      "text/plain": [
       "array(9.82681401)"
      ]
     },
     "execution_count": 38,
     "metadata": {},
     "output_type": "execute_result"
    }
   ],
   "source": [
    "waic_m_6_6 = az.waic(m_6_6_trace, pointwise=True, scale=\"deviance\")\n",
    "\n",
    "diff_m6_6_m6_8 = waic_m_6_6.waic_i - waic_m_6_8.waic_i\n",
    "\n",
    "n = len(diff_m6_6_m6_8)\n",
    "\n",
    "np.sqrt(n * np.var(diff_m6_6_m6_8)).values"
   ]
  },
  {
   "cell_type": "markdown",
   "metadata": {},
   "source": [
    "#### Code 7.31\n",
    "\n",
    "dSE is calculated by compare above, but `rethinking` produces a pairwise comparison. This is not implemented in `arviz`, but we can hack it together:"
   ]
  },
  {
   "cell_type": "code",
   "execution_count": 39,
   "metadata": {},
   "outputs": [
    {
     "data": {
      "text/html": [
       "<div>\n",
       "<style scoped>\n",
       "    .dataframe tbody tr th:only-of-type {\n",
       "        vertical-align: middle;\n",
       "    }\n",
       "\n",
       "    .dataframe tbody tr th {\n",
       "        vertical-align: top;\n",
       "    }\n",
       "\n",
       "    .dataframe thead th {\n",
       "        text-align: right;\n",
       "    }\n",
       "</style>\n",
       "<table border=\"1\" class=\"dataframe\">\n",
       "  <thead>\n",
       "    <tr style=\"text-align: right;\">\n",
       "      <th></th>\n",
       "      <th>m_6_7</th>\n",
       "      <th>m_6_8</th>\n",
       "    </tr>\n",
       "  </thead>\n",
       "  <tbody>\n",
       "    <tr>\n",
       "      <th>m_6_8</th>\n",
       "      <td>12.461968</td>\n",
       "      <td>0.000000</td>\n",
       "    </tr>\n",
       "    <tr>\n",
       "      <th>m_6_6</th>\n",
       "      <td>12.825019</td>\n",
       "      <td>9.826814</td>\n",
       "    </tr>\n",
       "  </tbody>\n",
       "</table>\n",
       "</div>"
      ],
      "text/plain": [
       "           m_6_7     m_6_8\n",
       "m_6_8  12.461968  0.000000\n",
       "m_6_6  12.825019  9.826814"
      ]
     },
     "execution_count": 39,
     "metadata": {},
     "output_type": "execute_result"
    }
   ],
   "source": [
    "dataset_dict = {\"m_6_6\": m_6_6_trace, \"m_6_7\": m_6_7_trace, \"m_6_8\": m_6_8_trace}\n",
    "\n",
    "# compare all models\n",
    "s0 = az.compare(dataset_dict, ic=\"waic\", scale=\"deviance\")[\"dse\"]\n",
    "# the output compares each model to the 'best' model - i.e. two models are compared to one.\n",
    "# to complete a pair-wise comparison we need to compare the remaining two models.\n",
    "\n",
    "# to do this, remove the 'best' model from the input data\n",
    "del dataset_dict[s0.index[0]]\n",
    "\n",
    "# re-run compare with the remaining two models\n",
    "s1 = az.compare(dataset_dict, ic=\"waic\", scale=\"deviance\")[\"dse\"]\n",
    "\n",
    "# s0 compares two models to one model, and s1 compares the remaining two models to each other\n",
    "# now we just nee to wrangle them together!\n",
    "\n",
    "# convert them both to dataframes, setting the name to the 'best' model in each `compare` output.\n",
    "# (i.e. the name is the model that others are compared to)\n",
    "df_0 = s0.to_frame(name=s0.index[0])\n",
    "df_1 = s1.to_frame(name=s1.index[0])\n",
    "\n",
    "# merge these dataframes to create a pairwise comparison\n",
    "pd.merge(df_0, df_1, left_index=True, right_index=True)"
   ]
  },
  {
   "cell_type": "markdown",
   "metadata": {},
   "source": [
    "**Note:** this work for three models, but will get increasingly hack-y with additional models. The function below can be applied to *n* models:"
   ]
  },
  {
   "cell_type": "code",
   "execution_count": 40,
   "metadata": {},
   "outputs": [],
   "source": [
    "def pairwise_compare(dataset_dict, metric=\"dse\", **kwargs):\n",
    "    \"\"\"\n",
    "    Calculate pairwise comparison of models in dataset_dict.\n",
    "\n",
    "    Parameters\n",
    "    ----------\n",
    "    dataset_dict : dict\n",
    "        A dict containing two ore more {'name': pymc.backends.base.MultiTrace}\n",
    "        items.\n",
    "    metric : str\n",
    "        The name of the matric to be calculated. Can be any valid column output\n",
    "        by `arviz.compare`. Note that this may change depending on the **kwargs\n",
    "        that are specified.\n",
    "    kwargs\n",
    "        Arguments passed to `arviz.compare`\n",
    "    \"\"\"\n",
    "    data_dict = dataset_dict.copy()\n",
    "    dicts = []\n",
    "\n",
    "    while len(data_dict) > 1:\n",
    "        c = az.compare(data_dict, **kwargs)[metric]\n",
    "        dicts.append(c.to_frame(name=c.index[0]))\n",
    "        del data_dict[c.index[0]]\n",
    "\n",
    "    return pd.concat(dicts, axis=1)"
   ]
  },
  {
   "cell_type": "code",
   "execution_count": 41,
   "metadata": {},
   "outputs": [
    {
     "data": {
      "text/html": [
       "<div>\n",
       "<style scoped>\n",
       "    .dataframe tbody tr th:only-of-type {\n",
       "        vertical-align: middle;\n",
       "    }\n",
       "\n",
       "    .dataframe tbody tr th {\n",
       "        vertical-align: top;\n",
       "    }\n",
       "\n",
       "    .dataframe thead th {\n",
       "        text-align: right;\n",
       "    }\n",
       "</style>\n",
       "<table border=\"1\" class=\"dataframe\">\n",
       "  <thead>\n",
       "    <tr style=\"text-align: right;\">\n",
       "      <th></th>\n",
       "      <th>m_6_7</th>\n",
       "      <th>m_6_8</th>\n",
       "    </tr>\n",
       "  </thead>\n",
       "  <tbody>\n",
       "    <tr>\n",
       "      <th>m_6_7</th>\n",
       "      <td>0.000000</td>\n",
       "      <td>NaN</td>\n",
       "    </tr>\n",
       "    <tr>\n",
       "      <th>m_6_8</th>\n",
       "      <td>12.461968</td>\n",
       "      <td>0.000000</td>\n",
       "    </tr>\n",
       "    <tr>\n",
       "      <th>m_6_6</th>\n",
       "      <td>12.825019</td>\n",
       "      <td>9.826814</td>\n",
       "    </tr>\n",
       "  </tbody>\n",
       "</table>\n",
       "</div>"
      ],
      "text/plain": [
       "           m_6_7     m_6_8\n",
       "m_6_7   0.000000       NaN\n",
       "m_6_8  12.461968  0.000000\n",
       "m_6_6  12.825019  9.826814"
      ]
     },
     "execution_count": 41,
     "metadata": {},
     "output_type": "execute_result"
    }
   ],
   "source": [
    "dataset_dict = {\"m_6_6\": m_6_6_trace, \"m_6_7\": m_6_7_trace, \"m_6_8\": m_6_8_trace}\n",
    "\n",
    "pairwise_compare(dataset_dict, metric=\"dse\", ic=\"waic\", scale=\"deviance\")"
   ]
  },
  {
   "cell_type": "markdown",
   "metadata": {},
   "source": [
    "#### Code 7.32"
   ]
  },
  {
   "cell_type": "code",
   "execution_count": 42,
   "metadata": {},
   "outputs": [],
   "source": [
    "d = pd.read_csv(\"Data/WaffleDivorce.csv\", delimiter=\";\")\n",
    "\n",
    "d[\"A\"] = stats.zscore(d[\"MedianAgeMarriage\"])\n",
    "d[\"D\"] = stats.zscore(d[\"Divorce\"])\n",
    "d[\"M\"] = stats.zscore(d[\"Marriage\"])"
   ]
  },
  {
   "cell_type": "code",
   "execution_count": 43,
   "metadata": {},
   "outputs": [
    {
     "name": "stderr",
     "output_type": "stream",
     "text": [
      "Auto-assigning NUTS sampler...\n",
      "Initializing NUTS using jitter+adapt_diag...\n",
      "Multiprocess sampling (4 chains in 4 jobs)\n",
      "NUTS: [a, bA, sigma]\n"
     ]
    },
    {
     "data": {
      "text/html": [
       "\n",
       "<style>\n",
       "    /* Turns off some styling */\n",
       "    progress {\n",
       "        /* gets rid of default border in Firefox and Opera. */\n",
       "        border: none;\n",
       "        /* Needs to be in here for Safari polyfill so background images work as expected. */\n",
       "        background-size: auto;\n",
       "    }\n",
       "    .progress-bar-interrupted, .progress-bar-interrupted::-webkit-progress-bar {\n",
       "        background: #F44336;\n",
       "    }\n",
       "</style>\n"
      ],
      "text/plain": [
       "<IPython.core.display.HTML object>"
      ]
     },
     "metadata": {},
     "output_type": "display_data"
    },
    {
     "data": {
      "text/html": [
       "\n",
       "    <div>\n",
       "      <progress value='8000' class='' max='8000' style='width:300px; height:20px; vertical-align: middle;'></progress>\n",
       "      100.00% [8000/8000 00:07<00:00 Sampling 4 chains, 0 divergences]\n",
       "    </div>\n",
       "    "
      ],
      "text/plain": [
       "<IPython.core.display.HTML object>"
      ]
     },
     "metadata": {},
     "output_type": "display_data"
    },
    {
     "name": "stderr",
     "output_type": "stream",
     "text": [
      "Sampling 4 chains for 1_000 tune and 1_000 draw iterations (4_000 + 4_000 draws total) took 28 seconds.\n",
      "Auto-assigning NUTS sampler...\n",
      "Initializing NUTS using jitter+adapt_diag...\n",
      "Multiprocess sampling (4 chains in 4 jobs)\n",
      "NUTS: [a, bM, sigma]\n"
     ]
    },
    {
     "data": {
      "text/html": [
       "\n",
       "<style>\n",
       "    /* Turns off some styling */\n",
       "    progress {\n",
       "        /* gets rid of default border in Firefox and Opera. */\n",
       "        border: none;\n",
       "        /* Needs to be in here for Safari polyfill so background images work as expected. */\n",
       "        background-size: auto;\n",
       "    }\n",
       "    .progress-bar-interrupted, .progress-bar-interrupted::-webkit-progress-bar {\n",
       "        background: #F44336;\n",
       "    }\n",
       "</style>\n"
      ],
      "text/plain": [
       "<IPython.core.display.HTML object>"
      ]
     },
     "metadata": {},
     "output_type": "display_data"
    },
    {
     "data": {
      "text/html": [
       "\n",
       "    <div>\n",
       "      <progress value='8000' class='' max='8000' style='width:300px; height:20px; vertical-align: middle;'></progress>\n",
       "      100.00% [8000/8000 00:06<00:00 Sampling 4 chains, 0 divergences]\n",
       "    </div>\n",
       "    "
      ],
      "text/plain": [
       "<IPython.core.display.HTML object>"
      ]
     },
     "metadata": {},
     "output_type": "display_data"
    },
    {
     "name": "stderr",
     "output_type": "stream",
     "text": [
      "Sampling 4 chains for 1_000 tune and 1_000 draw iterations (4_000 + 4_000 draws total) took 24 seconds.\n",
      "Auto-assigning NUTS sampler...\n",
      "Initializing NUTS using jitter+adapt_diag...\n",
      "Multiprocess sampling (4 chains in 4 jobs)\n",
      "NUTS: [a, bA, bM, sigma]\n"
     ]
    },
    {
     "data": {
      "text/html": [
       "\n",
       "<style>\n",
       "    /* Turns off some styling */\n",
       "    progress {\n",
       "        /* gets rid of default border in Firefox and Opera. */\n",
       "        border: none;\n",
       "        /* Needs to be in here for Safari polyfill so background images work as expected. */\n",
       "        background-size: auto;\n",
       "    }\n",
       "    .progress-bar-interrupted, .progress-bar-interrupted::-webkit-progress-bar {\n",
       "        background: #F44336;\n",
       "    }\n",
       "</style>\n"
      ],
      "text/plain": [
       "<IPython.core.display.HTML object>"
      ]
     },
     "metadata": {},
     "output_type": "display_data"
    },
    {
     "data": {
      "text/html": [
       "\n",
       "    <div>\n",
       "      <progress value='8000' class='' max='8000' style='width:300px; height:20px; vertical-align: middle;'></progress>\n",
       "      100.00% [8000/8000 00:12<00:00 Sampling 4 chains, 0 divergences]\n",
       "    </div>\n",
       "    "
      ],
      "text/plain": [
       "<IPython.core.display.HTML object>"
      ]
     },
     "metadata": {},
     "output_type": "display_data"
    },
    {
     "name": "stderr",
     "output_type": "stream",
     "text": [
      "Sampling 4 chains for 1_000 tune and 1_000 draw iterations (4_000 + 4_000 draws total) took 31 seconds.\n"
     ]
    }
   ],
   "source": [
    "with pm.Model() as m_5_1:\n",
    "    a = pm.Normal(\"a\", 0, 0.2)\n",
    "    bA = pm.Normal(\"bA\", 0, 0.5)\n",
    "\n",
    "    mu = a + bA * d[\"A\"].values\n",
    "    sigma = pm.Exponential(\"sigma\", 1)\n",
    "\n",
    "    D = pm.Normal(\"D\", mu, sigma, observed=d[\"D\"].values)\n",
    "\n",
    "    m_5_1_trace = pm.sample(return_inferencedata=True)\n",
    "\n",
    "with pm.Model() as m_5_2:\n",
    "    a = pm.Normal(\"a\", 0, 0.2)\n",
    "    bM = pm.Normal(\"bM\", 0, 0.5)\n",
    "\n",
    "    mu = a + bM * d[\"M\"].values\n",
    "    sigma = pm.Exponential(\"sigma\", 1)\n",
    "\n",
    "    D = pm.Normal(\"D\", mu, sigma, observed=d[\"D\"].values)\n",
    "\n",
    "    m_5_2_trace = pm.sample(return_inferencedata=True)\n",
    "\n",
    "with pm.Model() as m_5_3:\n",
    "    a = pm.Normal(\"a\", 0, 0.2)\n",
    "    bA = pm.Normal(\"bA\", 0, 0.5)\n",
    "    bM = pm.Normal(\"bM\", 0, 0.5)\n",
    "\n",
    "    mu = a + bA * d[\"A\"].values + bM * d[\"M\"].values\n",
    "    sigma = pm.Exponential(\"sigma\", 1)\n",
    "\n",
    "    D = pm.Normal(\"D\", mu, sigma, observed=d[\"D\"].values)\n",
    "\n",
    "    m_5_3_trace = pm.sample(return_inferencedata=True)"
   ]
  },
  {
   "cell_type": "markdown",
   "metadata": {},
   "source": [
    "#### Code 7.33"
   ]
  },
  {
   "cell_type": "code",
   "execution_count": 44,
   "metadata": {},
   "outputs": [
    {
     "data": {
      "text/html": [
       "<div>\n",
       "<style scoped>\n",
       "    .dataframe tbody tr th:only-of-type {\n",
       "        vertical-align: middle;\n",
       "    }\n",
       "\n",
       "    .dataframe tbody tr th {\n",
       "        vertical-align: top;\n",
       "    }\n",
       "\n",
       "    .dataframe thead th {\n",
       "        text-align: right;\n",
       "    }\n",
       "</style>\n",
       "<table border=\"1\" class=\"dataframe\">\n",
       "  <thead>\n",
       "    <tr style=\"text-align: right;\">\n",
       "      <th></th>\n",
       "      <th>rank</th>\n",
       "      <th>loo</th>\n",
       "      <th>p_loo</th>\n",
       "      <th>d_loo</th>\n",
       "      <th>weight</th>\n",
       "      <th>se</th>\n",
       "      <th>dse</th>\n",
       "      <th>warning</th>\n",
       "      <th>loo_scale</th>\n",
       "    </tr>\n",
       "  </thead>\n",
       "  <tbody>\n",
       "    <tr>\n",
       "      <th>m_5_1</th>\n",
       "      <td>0</td>\n",
       "      <td>127.143587</td>\n",
       "      <td>3.864388</td>\n",
       "      <td>0.000000</td>\n",
       "      <td>0.894438</td>\n",
       "      <td>12.849013</td>\n",
       "      <td>0.000000</td>\n",
       "      <td>False</td>\n",
       "      <td>deviance</td>\n",
       "    </tr>\n",
       "    <tr>\n",
       "      <th>m_5_3</th>\n",
       "      <td>1</td>\n",
       "      <td>128.580403</td>\n",
       "      <td>4.723429</td>\n",
       "      <td>1.436816</td>\n",
       "      <td>0.000000</td>\n",
       "      <td>12.719896</td>\n",
       "      <td>0.803879</td>\n",
       "      <td>False</td>\n",
       "      <td>deviance</td>\n",
       "    </tr>\n",
       "    <tr>\n",
       "      <th>m_5_2</th>\n",
       "      <td>2</td>\n",
       "      <td>140.720326</td>\n",
       "      <td>3.134333</td>\n",
       "      <td>13.576739</td>\n",
       "      <td>0.105562</td>\n",
       "      <td>9.846951</td>\n",
       "      <td>9.355108</td>\n",
       "      <td>False</td>\n",
       "      <td>deviance</td>\n",
       "    </tr>\n",
       "  </tbody>\n",
       "</table>\n",
       "</div>"
      ],
      "text/plain": [
       "       rank         loo     p_loo      d_loo    weight         se       dse  \\\n",
       "m_5_1     0  127.143587  3.864388   0.000000  0.894438  12.849013  0.000000   \n",
       "m_5_3     1  128.580403  4.723429   1.436816  0.000000  12.719896  0.803879   \n",
       "m_5_2     2  140.720326  3.134333  13.576739  0.105562   9.846951  9.355108   \n",
       "\n",
       "       warning loo_scale  \n",
       "m_5_1    False  deviance  \n",
       "m_5_3    False  deviance  \n",
       "m_5_2    False  deviance  "
      ]
     },
     "execution_count": 44,
     "metadata": {},
     "output_type": "execute_result"
    }
   ],
   "source": [
    "az.compare(\n",
    "    {\"m_5_1\": m_5_1_trace, \"m_5_2\": m_5_2_trace, \"m_5_3\": m_5_3_trace},\n",
    "    scale=\"deviance\",\n",
    ")"
   ]
  },
  {
   "cell_type": "markdown",
   "metadata": {},
   "source": [
    "#### Code 7.34"
   ]
  },
  {
   "cell_type": "code",
   "execution_count": 45,
   "metadata": {},
   "outputs": [
    {
     "name": "stderr",
     "output_type": "stream",
     "text": [
      "C:\\Users\\mason\\AppData\\Local\\Continuum\\anaconda3\\envs\\stat-rethink2-pymc\\lib\\site-packages\\arviz\\stats\\stats.py:1661: UserWarning: For one or more samples the posterior variance of the log predictive densities exceeds 0.4. This could be indication of WAIC starting to fail. \n",
      "See http://arxiv.org/abs/1507.04544 for details\n",
      "  warnings.warn(\n"
     ]
    },
    {
     "data": {
      "image/png": "[encoded data removed]",
      "text/plain": [
       "<Figure size 432x288 with 1 Axes>"
      ]
     },
     "metadata": {
      "needs_background": "light"
     },
     "output_type": "display_data"
    }
   ],
   "source": [
    "psis_m_5_3 = az.loo(m_5_3_trace, pointwise=True, scale=\"deviance\")\n",
    "waic_m_5_3 = az.waic(m_5_3_trace, pointwise=True, scale=\"deviance\")\n",
    "\n",
    "# Figure 7.10\n",
    "plt.scatter(psis_m_5_3.pareto_k, waic_m_5_3.waic_i)\n",
    "plt.xlabel(\"PSIS Pareto k\")\n",
    "plt.ylabel(\"WAIC\");"
   ]
  },
  {
   "cell_type": "code",
   "execution_count": 46,
   "metadata": {},
   "outputs": [
    {
     "data": {
      "image/png": "[encoded data removed]",
      "text/plain": [
       "<Figure size 576x252 with 2 Axes>"
      ]
     },
     "metadata": {
      "needs_background": "light"
     },
     "output_type": "display_data"
    }
   ],
   "source": [
    "# Figure 7.11\n",
    "\n",
    "v = np.linspace(-4, 4, 100)\n",
    "\n",
    "g = stats.norm(loc=0, scale=1)\n",
    "t = stats.t(df=2, loc=0, scale=1)\n",
    "\n",
    "fig, (ax, lax) = plt.subplots(1, 2, figsize=[8, 3.5])\n",
    "\n",
    "ax.plot(v, g.pdf(v), color=\"b\")\n",
    "ax.plot(v, t.pdf(v), color=\"k\")\n",
    "\n",
    "lax.plot(v, -g.logpdf(v), color=\"b\")\n",
    "lax.plot(v, -t.logpdf(v), color=\"k\");"
   ]
  },
  {
   "cell_type": "markdown",
   "metadata": {},
   "source": [
    "#### Code 7.35"
   ]
  },
  {
   "cell_type": "code",
   "execution_count": 47,
   "metadata": {},
   "outputs": [
    {
     "name": "stderr",
     "output_type": "stream",
     "text": [
      "Auto-assigning NUTS sampler...\n",
      "Initializing NUTS using jitter+adapt_diag...\n",
      "Multiprocess sampling (4 chains in 4 jobs)\n",
      "NUTS: [a, bA, bM, sigma]\n"
     ]
    },
    {
     "data": {
      "text/html": [
       "\n",
       "<style>\n",
       "    /* Turns off some styling */\n",
       "    progress {\n",
       "        /* gets rid of default border in Firefox and Opera. */\n",
       "        border: none;\n",
       "        /* Needs to be in here for Safari polyfill so background images work as expected. */\n",
       "        background-size: auto;\n",
       "    }\n",
       "    .progress-bar-interrupted, .progress-bar-interrupted::-webkit-progress-bar {\n",
       "        background: #F44336;\n",
       "    }\n",
       "</style>\n"
      ],
      "text/plain": [
       "<IPython.core.display.HTML object>"
      ]
     },
     "metadata": {},
     "output_type": "display_data"
    },
    {
     "data": {
      "text/html": [
       "\n",
       "    <div>\n",
       "      <progress value='8000' class='' max='8000' style='width:300px; height:20px; vertical-align: middle;'></progress>\n",
       "      100.00% [8000/8000 00:15<00:00 Sampling 4 chains, 0 divergences]\n",
       "    </div>\n",
       "    "
      ],
      "text/plain": [
       "<IPython.core.display.HTML object>"
      ]
     },
     "metadata": {},
     "output_type": "display_data"
    },
    {
     "name": "stderr",
     "output_type": "stream",
     "text": [
      "Sampling 4 chains for 1_000 tune and 1_000 draw iterations (4_000 + 4_000 draws total) took 46 seconds.\n"
     ]
    }
   ],
   "source": [
    "with pm.Model() as m_5_3t:\n",
    "    a = pm.Normal(\"a\", 0, 0.2)\n",
    "    bA = pm.Normal(\"bA\", 0, 0.5)\n",
    "    bM = pm.Normal(\"bM\", 0, 0.5)\n",
    "\n",
    "    mu = a + bA * d[\"A\"].values + bM * d[\"M\"].values\n",
    "    sigma = pm.Exponential(\"sigma\", 1)\n",
    "\n",
    "    D = pm.StudentT(\"D\", nu=2, mu=mu, sigma=sigma, observed=d[\"D\"].values)\n",
    "\n",
    "    m_5_3t_trace = pm.sample(return_inferencedata=True)"
   ]
  },
  {
   "cell_type": "code",
   "execution_count": 48,
   "metadata": {},
   "outputs": [
    {
     "data": {
      "text/plain": [
       "Computed from 4000 posterior samples and 50 observations log-likelihood matrix.\n",
       "\n",
       "             Estimate       SE\n",
       "deviance_loo   133.98    11.50\n",
       "p_loo            6.28        -\n",
       "------\n",
       "\n",
       "Pareto k diagnostic values:\n",
       "                         Count   Pct.\n",
       "(-Inf, 0.5]   (good)       50  100.0%\n",
       " (0.5, 0.7]   (ok)          0    0.0%\n",
       "   (0.7, 1]   (bad)         0    0.0%\n",
       "   (1, Inf)   (very bad)    0    0.0%"
      ]
     },
     "execution_count": 48,
     "metadata": {},
     "output_type": "execute_result"
    }
   ],
   "source": [
    "az.loo(m_5_3t_trace, pointwise=True, scale=\"deviance\")"
   ]
  },
  {
   "cell_type": "code",
   "execution_count": null,
   "metadata": {},
   "outputs": [],
   "source": [
    "az.plot_forest([m_5_3_trace, m_5_3t_trace], model_names=[\"m_5_3\", \"m_5_3t\"], figsize=[6, 3.5]);"
   ]
  },
  {
   "cell_type": "markdown",
   "metadata": {},
   "source": [
    "7H1.  In 2007, The Wall Street Journal published an editorial (“We’re Number One, Alas”) with a graph of corporate tax rates in 29 countries plotted against tax revenue. A badly fit curve was drawn in (reconstructed at right), seemingly by hand, to make the argument that the relationship between tax rate and tax revenue increases and then declines, such that higher tax rates can actually produce less tax revenue. I want you to actually fit a curve to these data, found in data(Laffer). Consider models that use tax rate to predict tax revenue. Compare, using WAIC or PSIS, a straight-line model to any curved models you like. What do you conclude about the relationship between tax rate and tax revenue?"
   ]
  },
  {
   "cell_type": "code",
   "execution_count": 38,
   "metadata": {},
   "outputs": [
    {
     "data": {
      "text/plain": [
       "(29, 2)"
      ]
     },
     "execution_count": 38,
     "metadata": {},
     "output_type": "execute_result"
    }
   ],
   "source": [
    "import pandas as pd\n",
    "\n",
    "df=pd.read_csv('./End_of_chapter_problems/data/Laffer.csv', sep=';')\n",
    "df.shape"
   ]
  },
  {
   "cell_type": "code",
   "execution_count": 39,
   "metadata": {},
   "outputs": [
    {
     "data": {
      "text/html": [
       "<div>\n",
       "<style scoped>\n",
       "    .dataframe tbody tr th:only-of-type {\n",
       "        vertical-align: middle;\n",
       "    }\n",
       "\n",
       "    .dataframe tbody tr th {\n",
       "        vertical-align: top;\n",
       "    }\n",
       "\n",
       "    .dataframe thead th {\n",
       "        text-align: right;\n",
       "    }\n",
       "</style>\n",
       "<table border=\"1\" class=\"dataframe\">\n",
       "  <thead>\n",
       "    <tr style=\"text-align: right;\">\n",
       "      <th></th>\n",
       "      <th>tax_rate</th>\n",
       "      <th>tax_revenue</th>\n",
       "    </tr>\n",
       "  </thead>\n",
       "  <tbody>\n",
       "    <tr>\n",
       "      <th>0</th>\n",
       "      <td>0.07</td>\n",
       "      <td>-0.06</td>\n",
       "    </tr>\n",
       "    <tr>\n",
       "      <th>1</th>\n",
       "      <td>8.81</td>\n",
       "      <td>2.45</td>\n",
       "    </tr>\n",
       "    <tr>\n",
       "      <th>2</th>\n",
       "      <td>12.84</td>\n",
       "      <td>3.58</td>\n",
       "    </tr>\n",
       "    <tr>\n",
       "      <th>3</th>\n",
       "      <td>16.24</td>\n",
       "      <td>2.19</td>\n",
       "    </tr>\n",
       "    <tr>\n",
       "      <th>4</th>\n",
       "      <td>19.18</td>\n",
       "      <td>2.46</td>\n",
       "    </tr>\n",
       "  </tbody>\n",
       "</table>\n",
       "</div>"
      ],
      "text/plain": [
       "   tax_rate  tax_revenue\n",
       "0      0.07        -0.06\n",
       "1      8.81         2.45\n",
       "2     12.84         3.58\n",
       "3     16.24         2.19\n",
       "4     19.18         2.46"
      ]
     },
     "execution_count": 39,
     "metadata": {},
     "output_type": "execute_result"
    }
   ],
   "source": [
    "df.head()"
   ]
  },
  {
   "cell_type": "code",
   "execution_count": 45,
   "metadata": {},
   "outputs": [
    {
     "data": {
      "text/plain": [
       "<matplotlib.collections.PathCollection at 0x1c5892dfd90>"
      ]
     },
     "execution_count": 45,
     "metadata": {},
     "output_type": "execute_result"
    },
    {
     "data": {
      "image/png": "[encoded data removed]",
      "text/plain": [
       "<Figure size 720x480 with 1 Axes>"
      ]
     },
     "metadata": {},
     "output_type": "display_data"
    }
   ],
   "source": [
    "def standardise(x):\n",
    "    return (x - np.mean(x)) / np.std(x)\n",
    "\n",
    "df['tax_rate_std']=standardise(df.tax_rate)\n",
    "df['tax_revenue_std']=standardise(df.tax_revenue)\n",
    "\n",
    "import matplotlib.pyplot as plt\n",
    "import seaborn as sns\n",
    "plt.scatter(df.tax_rate_std, df.tax_revenue_std)"
   ]
  },
  {
   "cell_type": "code",
   "execution_count": 87,
   "metadata": {},
   "outputs": [
    {
     "name": "stderr",
     "output_type": "stream",
     "text": [
      "Sampling: [a, bM, sigma, tax_revenue]\n",
      "Initializing NUTS using jitter+adapt_diag...\n",
      "Multiprocess sampling (4 chains in 4 jobs)\n",
      "NUTS: [a, bM, sigma]\n"
     ]
    },
    {
     "data": {
      "text/html": [
       "<pre style=\"white-space:pre;overflow-x:auto;line-height:normal;font-family:Menlo,'DejaVu Sans Mono',consolas,'Courier New',monospace\">C:\\Users\\risto\\AppData\\Local\\Packages\\PythonSoftwareFoundation.Python.3.13_qbz5n2kfra8p0\\LocalCache\\local-packages\\\n",
       "Python313\\site-packages\\rich\\live.py:231: UserWarning: install \"ipywidgets\" for Jupyter support\n",
       "  warnings.warn('install \"ipywidgets\" for Jupyter support')\n",
       "</pre>\n"
      ],
      "text/plain": [
       "C:\\Users\\risto\\AppData\\Local\\Packages\\PythonSoftwareFoundation.Python.3.13_qbz5n2kfra8p0\\LocalCache\\local-packages\\\n",
       "Python313\\site-packages\\rich\\live.py:231: UserWarning: install \"ipywidgets\" for Jupyter support\n",
       "  warnings.warn('install \"ipywidgets\" for Jupyter support')\n"
      ]
     },
     "metadata": {},
     "output_type": "display_data"
    },
    {
     "data": {
      "text/html": [
       "<pre style=\"white-space:pre;overflow-x:auto;line-height:normal;font-family:Menlo,'DejaVu Sans Mono',consolas,'Courier New',monospace\"></pre>\n"
      ],
      "text/plain": []
     },
     "metadata": {},
     "output_type": "display_data"
    },
    {
     "name": "stderr",
     "output_type": "stream",
     "text": [
      "Sampling 4 chains for 1_000 tune and 1_000 draw iterations (4_000 + 4_000 draws total) took 19 seconds.\n"
     ]
    }
   ],
   "source": [
    "import arviz as az\n",
    "import pymc as pm\n",
    "\n",
    "with pm.Model() as m_tax_line:\n",
    "    a = pm.Normal(\"a\", 0, 2)\n",
    "    b = pm.Normal(\"bM\", 0, 2)\n",
    "    sigma = pm.Exponential(\"sigma\", 1)\n",
    "    x=pm.Data('x', df[\"tax_rate_std\"].values)\n",
    "    mu = pm.Deterministic(\"mu\", a + b * x)\n",
    "\n",
    "    tax_revenue = pm.Normal(\n",
    "        \"tax_revenue\", mu=mu, sigma=sigma, observed=df[\"tax_revenue_std\"].values\n",
    "    )\n",
    "    prior_samples = pm.sample_prior_predictive()\n",
    "    m_tax_line_trace = pm.sample()"
   ]
  },
  {
   "cell_type": "code",
   "execution_count": 88,
   "metadata": {},
   "outputs": [
    {
     "name": "stderr",
     "output_type": "stream",
     "text": [
      "Sampling: [a, b2, bM, sigma, tax_revenue]\n",
      "Initializing NUTS using jitter+adapt_diag...\n",
      "Multiprocess sampling (4 chains in 4 jobs)\n",
      "NUTS: [a, bM, b2, sigma]\n"
     ]
    },
    {
     "data": {
      "text/html": [
       "<pre style=\"white-space:pre;overflow-x:auto;line-height:normal;font-family:Menlo,'DejaVu Sans Mono',consolas,'Courier New',monospace\">C:\\Users\\risto\\AppData\\Local\\Packages\\PythonSoftwareFoundation.Python.3.13_qbz5n2kfra8p0\\LocalCache\\local-packages\\\n",
       "Python313\\site-packages\\rich\\live.py:231: UserWarning: install \"ipywidgets\" for Jupyter support\n",
       "  warnings.warn('install \"ipywidgets\" for Jupyter support')\n",
       "</pre>\n"
      ],
      "text/plain": [
       "C:\\Users\\risto\\AppData\\Local\\Packages\\PythonSoftwareFoundation.Python.3.13_qbz5n2kfra8p0\\LocalCache\\local-packages\\\n",
       "Python313\\site-packages\\rich\\live.py:231: UserWarning: install \"ipywidgets\" for Jupyter support\n",
       "  warnings.warn('install \"ipywidgets\" for Jupyter support')\n"
      ]
     },
     "metadata": {},
     "output_type": "display_data"
    },
    {
     "data": {
      "text/html": [
       "<pre style=\"white-space:pre;overflow-x:auto;line-height:normal;font-family:Menlo,'DejaVu Sans Mono',consolas,'Courier New',monospace\"></pre>\n"
      ],
      "text/plain": []
     },
     "metadata": {},
     "output_type": "display_data"
    },
    {
     "name": "stderr",
     "output_type": "stream",
     "text": [
      "Sampling 4 chains for 1_000 tune and 1_000 draw iterations (4_000 + 4_000 draws total) took 29 seconds.\n"
     ]
    }
   ],
   "source": [
    "with pm.Model() as m_tax_curve1:\n",
    "    a = pm.Normal(\"a\", 0, 2)\n",
    "    b = pm.Normal(\"bM\", 0, 2)\n",
    "    b2 = pm.Normal(\"b2\", 0, 2)\n",
    "    sigma = pm.Exponential(\"sigma\", 1)\n",
    "    x=pm.Data('x', df[\"tax_rate_std\"].values)\n",
    "    mu = pm.Deterministic(\"mu\", a + b * x + b2*x**2)\n",
    "\n",
    "    tax_revenue = pm.Normal(\n",
    "        \"tax_revenue\", mu=mu, sigma=sigma, observed=df[\"tax_revenue_std\"].values\n",
    "    )\n",
    "    prior_samples = pm.sample_prior_predictive()\n",
    "    m_tax_curve1_trace = pm.sample()"
   ]
  },
  {
   "cell_type": "code",
   "execution_count": 89,
   "metadata": {},
   "outputs": [
    {
     "name": "stderr",
     "output_type": "stream",
     "text": [
      "Sampling: [a, b2, b3, bM, sigma, tax_revenue]\n",
      "Initializing NUTS using jitter+adapt_diag...\n",
      "Multiprocess sampling (4 chains in 4 jobs)\n",
      "NUTS: [a, bM, b2, b3, sigma]\n"
     ]
    },
    {
     "data": {
      "text/html": [
       "<pre style=\"white-space:pre;overflow-x:auto;line-height:normal;font-family:Menlo,'DejaVu Sans Mono',consolas,'Courier New',monospace\">C:\\Users\\risto\\AppData\\Local\\Packages\\PythonSoftwareFoundation.Python.3.13_qbz5n2kfra8p0\\LocalCache\\local-packages\\\n",
       "Python313\\site-packages\\rich\\live.py:231: UserWarning: install \"ipywidgets\" for Jupyter support\n",
       "  warnings.warn('install \"ipywidgets\" for Jupyter support')\n",
       "</pre>\n"
      ],
      "text/plain": [
       "C:\\Users\\risto\\AppData\\Local\\Packages\\PythonSoftwareFoundation.Python.3.13_qbz5n2kfra8p0\\LocalCache\\local-packages\\\n",
       "Python313\\site-packages\\rich\\live.py:231: UserWarning: install \"ipywidgets\" for Jupyter support\n",
       "  warnings.warn('install \"ipywidgets\" for Jupyter support')\n"
      ]
     },
     "metadata": {},
     "output_type": "display_data"
    },
    {
     "data": {
      "text/html": [
       "<pre style=\"white-space:pre;overflow-x:auto;line-height:normal;font-family:Menlo,'DejaVu Sans Mono',consolas,'Courier New',monospace\"></pre>\n"
      ],
      "text/plain": []
     },
     "metadata": {},
     "output_type": "display_data"
    },
    {
     "name": "stderr",
     "output_type": "stream",
     "text": [
      "Sampling 4 chains for 1_000 tune and 1_000 draw iterations (4_000 + 4_000 draws total) took 80 seconds.\n"
     ]
    }
   ],
   "source": [
    "with pm.Model() as m_tax_curve2:\n",
    "    a = pm.Normal(\"a\", 0, 2)\n",
    "    b = pm.Normal(\"bM\", 0, 2)\n",
    "    b2 = pm.Normal(\"b2\", 0, 2)\n",
    "    b3 = pm.Normal(\"b3\", 0, 2)\n",
    "    sigma = pm.Exponential(\"sigma\", 1)\n",
    "    x=pm.Data('x', df[\"tax_rate_std\"].values)\n",
    "    mu = pm.Deterministic(\"mu\", a + b * x + b2*x**2 + b3*x**3)\n",
    "\n",
    "    tax_revenue = pm.Normal(\n",
    "        \"tax_revenue\", mu=mu, sigma=sigma, observed=df[\"tax_revenue_std\"].values\n",
    "    )\n",
    "    prior_samples = pm.sample_prior_predictive()\n",
    "    m_tax_curve2_trace = pm.sample()"
   ]
  },
  {
   "cell_type": "code",
   "execution_count": 90,
   "metadata": {},
   "outputs": [
    {
     "data": {
      "text/html": [
       "<div>\n",
       "<style scoped>\n",
       "    .dataframe tbody tr th:only-of-type {\n",
       "        vertical-align: middle;\n",
       "    }\n",
       "\n",
       "    .dataframe tbody tr th {\n",
       "        vertical-align: top;\n",
       "    }\n",
       "\n",
       "    .dataframe thead th {\n",
       "        text-align: right;\n",
       "    }\n",
       "</style>\n",
       "<table border=\"1\" class=\"dataframe\">\n",
       "  <thead>\n",
       "    <tr style=\"text-align: right;\">\n",
       "      <th></th>\n",
       "      <th>mean</th>\n",
       "      <th>sd</th>\n",
       "      <th>hdi_5.5%</th>\n",
       "      <th>hdi_94.5%</th>\n",
       "      <th>mcse_mean</th>\n",
       "      <th>mcse_sd</th>\n",
       "      <th>ess_bulk</th>\n",
       "      <th>ess_tail</th>\n",
       "      <th>r_hat</th>\n",
       "    </tr>\n",
       "  </thead>\n",
       "  <tbody>\n",
       "    <tr>\n",
       "      <th>a</th>\n",
       "      <td>-0.001</td>\n",
       "      <td>0.187</td>\n",
       "      <td>-0.299</td>\n",
       "      <td>0.290</td>\n",
       "      <td>0.003</td>\n",
       "      <td>0.003</td>\n",
       "      <td>4469.0</td>\n",
       "      <td>3165.0</td>\n",
       "      <td>1.0</td>\n",
       "    </tr>\n",
       "    <tr>\n",
       "      <th>bM</th>\n",
       "      <td>0.323</td>\n",
       "      <td>0.190</td>\n",
       "      <td>0.025</td>\n",
       "      <td>0.630</td>\n",
       "      <td>0.003</td>\n",
       "      <td>0.003</td>\n",
       "      <td>4518.0</td>\n",
       "      <td>2870.0</td>\n",
       "      <td>1.0</td>\n",
       "    </tr>\n",
       "    <tr>\n",
       "      <th>sigma</th>\n",
       "      <td>1.013</td>\n",
       "      <td>0.142</td>\n",
       "      <td>0.797</td>\n",
       "      <td>1.224</td>\n",
       "      <td>0.002</td>\n",
       "      <td>0.002</td>\n",
       "      <td>4518.0</td>\n",
       "      <td>2803.0</td>\n",
       "      <td>1.0</td>\n",
       "    </tr>\n",
       "    <tr>\n",
       "      <th>mu[0]</th>\n",
       "      <td>-0.988</td>\n",
       "      <td>0.611</td>\n",
       "      <td>-1.964</td>\n",
       "      <td>-0.013</td>\n",
       "      <td>0.009</td>\n",
       "      <td>0.010</td>\n",
       "      <td>4399.0</td>\n",
       "      <td>2940.0</td>\n",
       "      <td>1.0</td>\n",
       "    </tr>\n",
       "    <tr>\n",
       "      <th>mu[1]</th>\n",
       "      <td>-0.660</td>\n",
       "      <td>0.431</td>\n",
       "      <td>-1.334</td>\n",
       "      <td>0.042</td>\n",
       "      <td>0.007</td>\n",
       "      <td>0.007</td>\n",
       "      <td>4359.0</td>\n",
       "      <td>3015.0</td>\n",
       "      <td>1.0</td>\n",
       "    </tr>\n",
       "  </tbody>\n",
       "</table>\n",
       "</div>"
      ],
      "text/plain": [
       "        mean     sd  hdi_5.5%  hdi_94.5%  mcse_mean  mcse_sd  ess_bulk  \\\n",
       "a     -0.001  0.187    -0.299      0.290      0.003    0.003    4469.0   \n",
       "bM     0.323  0.190     0.025      0.630      0.003    0.003    4518.0   \n",
       "sigma  1.013  0.142     0.797      1.224      0.002    0.002    4518.0   \n",
       "mu[0] -0.988  0.611    -1.964     -0.013      0.009    0.010    4399.0   \n",
       "mu[1] -0.660  0.431    -1.334      0.042      0.007    0.007    4359.0   \n",
       "\n",
       "       ess_tail  r_hat  \n",
       "a        3165.0    1.0  \n",
       "bM       2870.0    1.0  \n",
       "sigma    2803.0    1.0  \n",
       "mu[0]    2940.0    1.0  \n",
       "mu[1]    3015.0    1.0  "
      ]
     },
     "execution_count": 90,
     "metadata": {},
     "output_type": "execute_result"
    }
   ],
   "source": [
    "az.summary(m_tax_line_trace).head()"
   ]
  },
  {
   "cell_type": "code",
   "execution_count": 91,
   "metadata": {},
   "outputs": [
    {
     "data": {
      "text/html": [
       "<div>\n",
       "<style scoped>\n",
       "    .dataframe tbody tr th:only-of-type {\n",
       "        vertical-align: middle;\n",
       "    }\n",
       "\n",
       "    .dataframe tbody tr th {\n",
       "        vertical-align: top;\n",
       "    }\n",
       "\n",
       "    .dataframe thead th {\n",
       "        text-align: right;\n",
       "    }\n",
       "</style>\n",
       "<table border=\"1\" class=\"dataframe\">\n",
       "  <thead>\n",
       "    <tr style=\"text-align: right;\">\n",
       "      <th></th>\n",
       "      <th>mean</th>\n",
       "      <th>sd</th>\n",
       "      <th>hdi_5.5%</th>\n",
       "      <th>hdi_94.5%</th>\n",
       "      <th>mcse_mean</th>\n",
       "      <th>mcse_sd</th>\n",
       "      <th>ess_bulk</th>\n",
       "      <th>ess_tail</th>\n",
       "      <th>r_hat</th>\n",
       "    </tr>\n",
       "  </thead>\n",
       "  <tbody>\n",
       "    <tr>\n",
       "      <th>a</th>\n",
       "      <td>0.227</td>\n",
       "      <td>0.231</td>\n",
       "      <td>-0.157</td>\n",
       "      <td>0.579</td>\n",
       "      <td>0.005</td>\n",
       "      <td>0.004</td>\n",
       "      <td>2216.0</td>\n",
       "      <td>2560.0</td>\n",
       "      <td>1.0</td>\n",
       "    </tr>\n",
       "    <tr>\n",
       "      <th>bM</th>\n",
       "      <td>0.029</td>\n",
       "      <td>0.251</td>\n",
       "      <td>-0.345</td>\n",
       "      <td>0.449</td>\n",
       "      <td>0.005</td>\n",
       "      <td>0.004</td>\n",
       "      <td>2473.0</td>\n",
       "      <td>2526.0</td>\n",
       "      <td>1.0</td>\n",
       "    </tr>\n",
       "    <tr>\n",
       "      <th>b2</th>\n",
       "      <td>-0.230</td>\n",
       "      <td>0.143</td>\n",
       "      <td>-0.449</td>\n",
       "      <td>0.002</td>\n",
       "      <td>0.003</td>\n",
       "      <td>0.003</td>\n",
       "      <td>2121.0</td>\n",
       "      <td>2416.0</td>\n",
       "      <td>1.0</td>\n",
       "    </tr>\n",
       "    <tr>\n",
       "      <th>sigma</th>\n",
       "      <td>0.982</td>\n",
       "      <td>0.143</td>\n",
       "      <td>0.757</td>\n",
       "      <td>1.191</td>\n",
       "      <td>0.003</td>\n",
       "      <td>0.003</td>\n",
       "      <td>2130.0</td>\n",
       "      <td>2365.0</td>\n",
       "      <td>1.0</td>\n",
       "    </tr>\n",
       "    <tr>\n",
       "      <th>mu[0]</th>\n",
       "      <td>-2.011</td>\n",
       "      <td>0.873</td>\n",
       "      <td>-3.427</td>\n",
       "      <td>-0.647</td>\n",
       "      <td>0.014</td>\n",
       "      <td>0.014</td>\n",
       "      <td>4177.0</td>\n",
       "      <td>2491.0</td>\n",
       "      <td>1.0</td>\n",
       "    </tr>\n",
       "  </tbody>\n",
       "</table>\n",
       "</div>"
      ],
      "text/plain": [
       "        mean     sd  hdi_5.5%  hdi_94.5%  mcse_mean  mcse_sd  ess_bulk  \\\n",
       "a      0.227  0.231    -0.157      0.579      0.005    0.004    2216.0   \n",
       "bM     0.029  0.251    -0.345      0.449      0.005    0.004    2473.0   \n",
       "b2    -0.230  0.143    -0.449      0.002      0.003    0.003    2121.0   \n",
       "sigma  0.982  0.143     0.757      1.191      0.003    0.003    2130.0   \n",
       "mu[0] -2.011  0.873    -3.427     -0.647      0.014    0.014    4177.0   \n",
       "\n",
       "       ess_tail  r_hat  \n",
       "a        2560.0    1.0  \n",
       "bM       2526.0    1.0  \n",
       "b2       2416.0    1.0  \n",
       "sigma    2365.0    1.0  \n",
       "mu[0]    2491.0    1.0  "
      ]
     },
     "execution_count": 91,
     "metadata": {},
     "output_type": "execute_result"
    }
   ],
   "source": [
    "az.summary(m_tax_curve1_trace).head()"
   ]
  },
  {
   "cell_type": "code",
   "execution_count": 92,
   "metadata": {},
   "outputs": [
    {
     "data": {
      "text/html": [
       "<div>\n",
       "<style scoped>\n",
       "    .dataframe tbody tr th:only-of-type {\n",
       "        vertical-align: middle;\n",
       "    }\n",
       "\n",
       "    .dataframe tbody tr th {\n",
       "        vertical-align: top;\n",
       "    }\n",
       "\n",
       "    .dataframe thead th {\n",
       "        text-align: right;\n",
       "    }\n",
       "</style>\n",
       "<table border=\"1\" class=\"dataframe\">\n",
       "  <thead>\n",
       "    <tr style=\"text-align: right;\">\n",
       "      <th></th>\n",
       "      <th>mean</th>\n",
       "      <th>sd</th>\n",
       "      <th>hdi_5.5%</th>\n",
       "      <th>hdi_94.5%</th>\n",
       "      <th>mcse_mean</th>\n",
       "      <th>mcse_sd</th>\n",
       "      <th>ess_bulk</th>\n",
       "      <th>ess_tail</th>\n",
       "      <th>r_hat</th>\n",
       "    </tr>\n",
       "  </thead>\n",
       "  <tbody>\n",
       "    <tr>\n",
       "      <th>a</th>\n",
       "      <td>0.385</td>\n",
       "      <td>0.285</td>\n",
       "      <td>-0.048</td>\n",
       "      <td>0.847</td>\n",
       "      <td>0.007</td>\n",
       "      <td>0.005</td>\n",
       "      <td>1529.0</td>\n",
       "      <td>1834.0</td>\n",
       "      <td>1.0</td>\n",
       "    </tr>\n",
       "    <tr>\n",
       "      <th>bM</th>\n",
       "      <td>0.150</td>\n",
       "      <td>0.289</td>\n",
       "      <td>-0.341</td>\n",
       "      <td>0.579</td>\n",
       "      <td>0.006</td>\n",
       "      <td>0.006</td>\n",
       "      <td>2382.0</td>\n",
       "      <td>1846.0</td>\n",
       "      <td>1.0</td>\n",
       "    </tr>\n",
       "    <tr>\n",
       "      <th>b2</th>\n",
       "      <td>-0.546</td>\n",
       "      <td>0.351</td>\n",
       "      <td>-1.095</td>\n",
       "      <td>0.002</td>\n",
       "      <td>0.009</td>\n",
       "      <td>0.007</td>\n",
       "      <td>1451.0</td>\n",
       "      <td>1467.0</td>\n",
       "      <td>1.0</td>\n",
       "    </tr>\n",
       "    <tr>\n",
       "      <th>b3</th>\n",
       "      <td>-0.124</td>\n",
       "      <td>0.126</td>\n",
       "      <td>-0.308</td>\n",
       "      <td>0.086</td>\n",
       "      <td>0.003</td>\n",
       "      <td>0.002</td>\n",
       "      <td>1557.0</td>\n",
       "      <td>1923.0</td>\n",
       "      <td>1.0</td>\n",
       "    </tr>\n",
       "    <tr>\n",
       "      <th>sigma</th>\n",
       "      <td>0.983</td>\n",
       "      <td>0.142</td>\n",
       "      <td>0.769</td>\n",
       "      <td>1.202</td>\n",
       "      <td>0.003</td>\n",
       "      <td>0.003</td>\n",
       "      <td>1953.0</td>\n",
       "      <td>2033.0</td>\n",
       "      <td>1.0</td>\n",
       "    </tr>\n",
       "  </tbody>\n",
       "</table>\n",
       "</div>"
      ],
      "text/plain": [
       "        mean     sd  hdi_5.5%  hdi_94.5%  mcse_mean  mcse_sd  ess_bulk  \\\n",
       "a      0.385  0.285    -0.048      0.847      0.007    0.005    1529.0   \n",
       "bM     0.150  0.289    -0.341      0.579      0.006    0.006    2382.0   \n",
       "b2    -0.546  0.351    -1.095      0.002      0.009    0.007    1451.0   \n",
       "b3    -0.124  0.126    -0.308      0.086      0.003    0.002    1557.0   \n",
       "sigma  0.983  0.142     0.769      1.202      0.003    0.003    1953.0   \n",
       "\n",
       "       ess_tail  r_hat  \n",
       "a        1834.0    1.0  \n",
       "bM       1846.0    1.0  \n",
       "b2       1467.0    1.0  \n",
       "b3       1923.0    1.0  \n",
       "sigma    2033.0    1.0  "
      ]
     },
     "execution_count": 92,
     "metadata": {},
     "output_type": "execute_result"
    }
   ],
   "source": [
    "az.summary(m_tax_curve2_trace).head()"
   ]
  },
  {
   "cell_type": "code",
   "execution_count": 93,
   "metadata": {},
   "outputs": [
    {
     "data": {
      "text/html": [
       "<pre style=\"white-space:pre;overflow-x:auto;line-height:normal;font-family:Menlo,'DejaVu Sans Mono',consolas,'Courier New',monospace\">C:\\Users\\risto\\AppData\\Local\\Packages\\PythonSoftwareFoundation.Python.3.13_qbz5n2kfra8p0\\LocalCache\\local-packages\\\n",
       "Python313\\site-packages\\rich\\live.py:231: UserWarning: install \"ipywidgets\" for Jupyter support\n",
       "  warnings.warn('install \"ipywidgets\" for Jupyter support')\n",
       "</pre>\n"
      ],
      "text/plain": [
       "C:\\Users\\risto\\AppData\\Local\\Packages\\PythonSoftwareFoundation.Python.3.13_qbz5n2kfra8p0\\LocalCache\\local-packages\\\n",
       "Python313\\site-packages\\rich\\live.py:231: UserWarning: install \"ipywidgets\" for Jupyter support\n",
       "  warnings.warn('install \"ipywidgets\" for Jupyter support')\n"
      ]
     },
     "metadata": {},
     "output_type": "display_data"
    },
    {
     "data": {
      "text/html": [
       "<pre style=\"white-space:pre;overflow-x:auto;line-height:normal;font-family:Menlo,'DejaVu Sans Mono',consolas,'Courier New',monospace\"></pre>\n"
      ],
      "text/plain": []
     },
     "metadata": {},
     "output_type": "display_data"
    },
    {
     "data": {
      "text/html": [
       "<pre style=\"white-space:pre;overflow-x:auto;line-height:normal;font-family:Menlo,'DejaVu Sans Mono',consolas,'Courier New',monospace\">C:\\Users\\risto\\AppData\\Local\\Packages\\PythonSoftwareFoundation.Python.3.13_qbz5n2kfra8p0\\LocalCache\\local-packages\\\n",
       "Python313\\site-packages\\rich\\live.py:231: UserWarning: install \"ipywidgets\" for Jupyter support\n",
       "  warnings.warn('install \"ipywidgets\" for Jupyter support')\n",
       "</pre>\n"
      ],
      "text/plain": [
       "C:\\Users\\risto\\AppData\\Local\\Packages\\PythonSoftwareFoundation.Python.3.13_qbz5n2kfra8p0\\LocalCache\\local-packages\\\n",
       "Python313\\site-packages\\rich\\live.py:231: UserWarning: install \"ipywidgets\" for Jupyter support\n",
       "  warnings.warn('install \"ipywidgets\" for Jupyter support')\n"
      ]
     },
     "metadata": {},
     "output_type": "display_data"
    },
    {
     "name": "stderr",
     "output_type": "stream",
     "text": [
      "C:\\Users\\risto\\AppData\\Local\\Packages\\PythonSoftwareFoundation.Python.3.13_qbz5n2kfra8p0\\LocalCache\\local-packages\\Python313\\site-packages\\arviz\\stats\\stats.py:1655: UserWarning: For one or more samples the posterior variance of the log predictive densities exceeds 0.4. This could be indication of WAIC starting to fail. \n",
      "See http://arxiv.org/abs/1507.04544 for details\n",
      "  warnings.warn(\n"
     ]
    },
    {
     "data": {
      "text/html": [
       "<pre style=\"white-space:pre;overflow-x:auto;line-height:normal;font-family:Menlo,'DejaVu Sans Mono',consolas,'Courier New',monospace\"></pre>\n"
      ],
      "text/plain": []
     },
     "metadata": {},
     "output_type": "display_data"
    },
    {
     "data": {
      "text/html": [
       "<pre style=\"white-space:pre;overflow-x:auto;line-height:normal;font-family:Menlo,'DejaVu Sans Mono',consolas,'Courier New',monospace\">C:\\Users\\risto\\AppData\\Local\\Packages\\PythonSoftwareFoundation.Python.3.13_qbz5n2kfra8p0\\LocalCache\\local-packages\\\n",
       "Python313\\site-packages\\rich\\live.py:231: UserWarning: install \"ipywidgets\" for Jupyter support\n",
       "  warnings.warn('install \"ipywidgets\" for Jupyter support')\n",
       "</pre>\n"
      ],
      "text/plain": [
       "C:\\Users\\risto\\AppData\\Local\\Packages\\PythonSoftwareFoundation.Python.3.13_qbz5n2kfra8p0\\LocalCache\\local-packages\\\n",
       "Python313\\site-packages\\rich\\live.py:231: UserWarning: install \"ipywidgets\" for Jupyter support\n",
       "  warnings.warn('install \"ipywidgets\" for Jupyter support')\n"
      ]
     },
     "metadata": {},
     "output_type": "display_data"
    },
    {
     "name": "stderr",
     "output_type": "stream",
     "text": [
      "C:\\Users\\risto\\AppData\\Local\\Packages\\PythonSoftwareFoundation.Python.3.13_qbz5n2kfra8p0\\LocalCache\\local-packages\\Python313\\site-packages\\arviz\\stats\\stats.py:1655: UserWarning: For one or more samples the posterior variance of the log predictive densities exceeds 0.4. This could be indication of WAIC starting to fail. \n",
      "See http://arxiv.org/abs/1507.04544 for details\n",
      "  warnings.warn(\n"
     ]
    },
    {
     "data": {
      "text/html": [
       "<pre style=\"white-space:pre;overflow-x:auto;line-height:normal;font-family:Menlo,'DejaVu Sans Mono',consolas,'Courier New',monospace\"></pre>\n"
      ],
      "text/plain": []
     },
     "metadata": {},
     "output_type": "display_data"
    },
    {
     "name": "stderr",
     "output_type": "stream",
     "text": [
      "C:\\Users\\risto\\AppData\\Local\\Packages\\PythonSoftwareFoundation.Python.3.13_qbz5n2kfra8p0\\LocalCache\\local-packages\\Python313\\site-packages\\arviz\\stats\\stats.py:1655: UserWarning: For one or more samples the posterior variance of the log predictive densities exceeds 0.4. This could be indication of WAIC starting to fail. \n",
      "See http://arxiv.org/abs/1507.04544 for details\n",
      "  warnings.warn(\n"
     ]
    },
    {
     "data": {
      "text/plain": [
       "(Computed from 4000 posterior samples and 29 observations log-likelihood matrix.\n",
       " \n",
       "           Estimate       SE\n",
       " elpd_waic   -44.15     8.98\n",
       " p_waic        4.93        -\n",
       " \n",
       " There has been a warning during the calculation. Please check the results.,\n",
       " Computed from 4000 posterior samples and 29 observations log-likelihood matrix.\n",
       " \n",
       "           Estimate       SE\n",
       " elpd_waic   -43.51     8.95\n",
       " p_waic        5.32        -\n",
       " \n",
       " There has been a warning during the calculation. Please check the results.,\n",
       " Computed from 4000 posterior samples and 29 observations log-likelihood matrix.\n",
       " \n",
       "           Estimate       SE\n",
       " elpd_waic   -43.78     8.16\n",
       " p_waic        5.76        -\n",
       " \n",
       " There has been a warning during the calculation. Please check the results.)"
      ]
     },
     "execution_count": 93,
     "metadata": {},
     "output_type": "execute_result"
    }
   ],
   "source": [
    "waic_line = pm.compute_log_likelihood(m_tax_line_trace, model=m_tax_line)\n",
    "waic_line = pm.waic(waic_line)\n",
    "\n",
    "waic_curve1 = pm.compute_log_likelihood(m_tax_curve1_trace, model=m_tax_curve1)\n",
    "waic_curve1 = pm.waic(waic_curve1)\n",
    "\n",
    "waic_curve2 = pm.compute_log_likelihood(m_tax_curve2_trace, model=m_tax_curve2)\n",
    "waic_curve2 = pm.waic(waic_curve2)\n",
    "waic_line, waic_curve1, waic_curve2"
   ]
  },
  {
   "cell_type": "code",
   "execution_count": 94,
   "metadata": {},
   "outputs": [
    {
     "name": "stderr",
     "output_type": "stream",
     "text": [
      "Sampling: []\n"
     ]
    },
    {
     "data": {
      "text/html": [
       "<pre style=\"white-space:pre;overflow-x:auto;line-height:normal;font-family:Menlo,'DejaVu Sans Mono',consolas,'Courier New',monospace\">C:\\Users\\risto\\AppData\\Local\\Packages\\PythonSoftwareFoundation.Python.3.13_qbz5n2kfra8p0\\LocalCache\\local-packages\\\n",
       "Python313\\site-packages\\rich\\live.py:231: UserWarning: install \"ipywidgets\" for Jupyter support\n",
       "  warnings.warn('install \"ipywidgets\" for Jupyter support')\n",
       "</pre>\n"
      ],
      "text/plain": [
       "C:\\Users\\risto\\AppData\\Local\\Packages\\PythonSoftwareFoundation.Python.3.13_qbz5n2kfra8p0\\LocalCache\\local-packages\\\n",
       "Python313\\site-packages\\rich\\live.py:231: UserWarning: install \"ipywidgets\" for Jupyter support\n",
       "  warnings.warn('install \"ipywidgets\" for Jupyter support')\n"
      ]
     },
     "metadata": {},
     "output_type": "display_data"
    },
    {
     "data": {
      "text/html": [
       "<pre style=\"white-space:pre;overflow-x:auto;line-height:normal;font-family:Menlo,'DejaVu Sans Mono',consolas,'Courier New',monospace\"></pre>\n"
      ],
      "text/plain": []
     },
     "metadata": {},
     "output_type": "display_data"
    },
    {
     "name": "stderr",
     "output_type": "stream",
     "text": [
      "Sampling: []\n"
     ]
    },
    {
     "data": {
      "text/html": [
       "<pre style=\"white-space:pre;overflow-x:auto;line-height:normal;font-family:Menlo,'DejaVu Sans Mono',consolas,'Courier New',monospace\">C:\\Users\\risto\\AppData\\Local\\Packages\\PythonSoftwareFoundation.Python.3.13_qbz5n2kfra8p0\\LocalCache\\local-packages\\\n",
       "Python313\\site-packages\\rich\\live.py:231: UserWarning: install \"ipywidgets\" for Jupyter support\n",
       "  warnings.warn('install \"ipywidgets\" for Jupyter support')\n",
       "</pre>\n"
      ],
      "text/plain": [
       "C:\\Users\\risto\\AppData\\Local\\Packages\\PythonSoftwareFoundation.Python.3.13_qbz5n2kfra8p0\\LocalCache\\local-packages\\\n",
       "Python313\\site-packages\\rich\\live.py:231: UserWarning: install \"ipywidgets\" for Jupyter support\n",
       "  warnings.warn('install \"ipywidgets\" for Jupyter support')\n"
      ]
     },
     "metadata": {},
     "output_type": "display_data"
    },
    {
     "data": {
      "text/html": [
       "<pre style=\"white-space:pre;overflow-x:auto;line-height:normal;font-family:Menlo,'DejaVu Sans Mono',consolas,'Courier New',monospace\"></pre>\n"
      ],
      "text/plain": []
     },
     "metadata": {},
     "output_type": "display_data"
    },
    {
     "name": "stderr",
     "output_type": "stream",
     "text": [
      "Sampling: []\n"
     ]
    },
    {
     "data": {
      "text/html": [
       "<pre style=\"white-space:pre;overflow-x:auto;line-height:normal;font-family:Menlo,'DejaVu Sans Mono',consolas,'Courier New',monospace\">C:\\Users\\risto\\AppData\\Local\\Packages\\PythonSoftwareFoundation.Python.3.13_qbz5n2kfra8p0\\LocalCache\\local-packages\\\n",
       "Python313\\site-packages\\rich\\live.py:231: UserWarning: install \"ipywidgets\" for Jupyter support\n",
       "  warnings.warn('install \"ipywidgets\" for Jupyter support')\n",
       "</pre>\n"
      ],
      "text/plain": [
       "C:\\Users\\risto\\AppData\\Local\\Packages\\PythonSoftwareFoundation.Python.3.13_qbz5n2kfra8p0\\LocalCache\\local-packages\\\n",
       "Python313\\site-packages\\rich\\live.py:231: UserWarning: install \"ipywidgets\" for Jupyter support\n",
       "  warnings.warn('install \"ipywidgets\" for Jupyter support')\n"
      ]
     },
     "metadata": {},
     "output_type": "display_data"
    },
    {
     "data": {
      "text/html": [
       "<pre style=\"white-space:pre;overflow-x:auto;line-height:normal;font-family:Menlo,'DejaVu Sans Mono',consolas,'Courier New',monospace\"></pre>\n"
      ],
      "text/plain": []
     },
     "metadata": {},
     "output_type": "display_data"
    },
    {
     "data": {
      "image/png": "[encoded data removed]",
      "text/plain": [
       "<Figure size 720x480 with 1 Axes>"
      ]
     },
     "metadata": {},
     "output_type": "display_data"
    }
   ],
   "source": [
    "_, ax = plt.subplots()\n",
    "i=0\n",
    "for model, trace in [(m_tax_line, m_tax_line_trace), \n",
    "                     (m_tax_curve1, m_tax_curve1_trace),\n",
    "                    (m_tax_curve2, m_tax_curve2_trace)]:  # iterate through models and samples\n",
    "    with model:  # set the model\n",
    "        x = np.linspace(-3.1, 1.3, 100)\n",
    "        pm.set_data({\"x\": x})\n",
    "        ppc = pm.sample_posterior_predictive(trace, var_names=[\"mu\"])\n",
    "    ax.plot(x, ppc.posterior_predictive[\"mu\"].mean('draw').mean('chain'), label=f\"order {i+1}\")\n",
    "    az.plot_hdi(x, ppc.posterior_predictive['mu'], ax=ax, fill_kwargs={'alpha':0.1})\n",
    "    i+=1\n",
    "sns.scatterplot(x=\"tax_rate_std\", y=\"tax_revenue_std\", data=df);"
   ]
  },
  {
   "cell_type": "code",
   "execution_count": null,
   "metadata": {},
   "outputs": [],
   "source": []
  },
  {
   "cell_type": "code",
   "execution_count": null,
   "metadata": {},
   "outputs": [],
   "source": [
    "%load_ext watermark\n",
    "%watermark -n -u -v -iv -w"
   ]
  }
 ],
 "metadata": {
  "kernelspec": {
   "display_name": "Python 3 (ipykernel)",
   "language": "python",
   "name": "python3"
  },
  "language_info": {
   "codemirror_mode": {
    "name": "ipython",
    "version": 3
   },
   "file_extension": ".py",
   "mimetype": "text/x-python",
   "name": "python",
   "nbconvert_exporter": "python",
   "pygments_lexer": "ipython3",
   "version": "3.13.5"
  }
 },
 "nbformat": 4,
 "nbformat_minor": 4
}
